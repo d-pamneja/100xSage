{
 "cells": [
  {
   "cell_type": "markdown",
   "metadata": {},
   "source": [
    "# Dependencies"
   ]
  },
  {
   "cell_type": "code",
   "execution_count": 11,
   "metadata": {},
   "outputs": [],
   "source": [
    "from langchain.document_loaders import PyPDFDirectoryLoader, TextLoader\n",
    "from langchain.text_splitter import RecursiveCharacterTextSplitter \n",
    "from openai import OpenAI\n",
    "from langchain_openai import ChatOpenAI\n",
    "from langchain.chains import LLMChain\n",
    "from pinecone import Pinecone, ServerlessSpec\n",
    "from langchain.chains import RetrievalQA\n",
    "from langchain.prompts import PromptTemplate \n",
    "import pandas as pd\n",
    "import json\n",
    "from dotenv import load_dotenv\n",
    "load_dotenv()\n",
    "import os\n",
    "import time"
   ]
  },
  {
   "cell_type": "code",
   "execution_count": 5,
   "metadata": {},
   "outputs": [],
   "source": [
    "OPENAI_API_KEY = os.getenv(\"OPENAI_API_KEY\")"
   ]
  },
  {
   "cell_type": "markdown",
   "metadata": {},
   "source": [
    "# Loading the JSON file \n",
    "Now, each conversation is stored as a chat history json, where each key is the name of the user and the value is the message sent by user, and this flow is maintained in the conversation. Now, our aim is to load these into the format we want to store as a vector. For now, let us store the conversation as a list of jsons, where each json is a chat history of a conversation."
   ]
  },
  {
   "cell_type": "code",
   "execution_count": 30,
   "metadata": {},
   "outputs": [],
   "source": [
    "conversations = [\n",
    "    {\n",
    "    \"Dalvi OP\": \"i am currently doing the Excalidraw Project i was watching the second video i created all the files and followed all the steps but when i am executing the code by pnpm run dev i am getting this error i am stuck in this error for 3 hours if someone can please help me solve this error it would be very helpful for me\",\n",
    "    \"TA Tarun\": \"what is the error?\",\n",
    "    \"Dalvi OP (later)\": \"??\",\n",
    "    \"TA Tarun (later)\": \"are you using esbuild?\",\n",
    "    \"Dalvi OP (response)\": \"I don't think so where should I check if I am using it or no\",\n",
    "    \"TA Harry Potter\": \"You need to configure it inside the http-backend app\",\n",
    "    \"TA Tarun (later)\": \"package.json of http-server\",\n",
    "    \"TA Sumana\": \"use latest version of node\",\n",
    "    \"Dalvi OP (response final)\": \"@TA Sumana @TA Tarun @TA Harry Potter thankyou all of you the issue is resolved :perfect:\"\n",
    "  },\n",
    "  {\n",
    "    \"Samim Rezvi OP\": \"how does a jwt work...like it takes a string and converts it into something random...what is the role of key here? @TA Harry Potter @TA Sumana @TA SerBarristan\",\n",
    "    \"TA Harry Potter\": \"google kiya?\",\n",
    "    \"Samim Rezvi OP (response)\": \"yes key ka role samajh nhi aya\",\n",
    "    \"TA Harry Potter (clarification)\": \"it's that, allows verification that the token wasn't tampered with.\",\n",
    "    \"Samim Rezvi OP (clarification request)\": \"mtlb key encrypt and decrypt krta hai na?\",\n",
    "    \"TA Harry Potter (clarification final)\": \"Nahi, JWT ke case mein key encrypt aur decrypt nahi karti, balki sign aur verify karne ke liye use hoti hai.\",\n",
    "    \"akshiiittt\": \"Basically jwt authentication mein kaam aati hai, like vo ek random kuch text generate karta hai jisko ham sign ki madad se create karte hai jismein ham 3 values pass on krte, first one is the payload second is the secret key(jo sabse main hai jiski help se hi server verfiy kar pata hai ki ki jwt jo genrate hua hai voh sahi hai ya galat and third pe expiry time of that token). This is basically the main thing of the jwt and second verify hota hai jo client se send hota hai and server compare karta hai secret ki help se yeh sahi token hai ke nahi and then hi allow karta hai client ko aggey kuch bhi activities karne ke liye.\",\n",
    "    \"Samim Rezvi OP (final)\": \"accha...samajh gya.... thanks man\"\n",
    "  },\n",
    "  {\n",
    "    \"Shubha Sarkar OP\": \"I am struggling a lot when building the second brain app using Recoil. Fetch all data when the /dashboard component loads from backend show in UI. There are 3 endpoints in backend \\\"/create\\\" \\\"/edit:id\\\" \\\"/delete:id\\\". The UI should update immediately and also update in backend when user performs these operations.\",\n",
    "    \"TA Harry Potter\": \"Screen recording of the issue?\",\n",
    "    \"Shubha Sarkar OP (response)\": \"https://drive.google.com/drive/folders/1e1n6mXUls2DD6yxnPANFfnEMKiJgeznd?usp=sharing\",\n",
    "    \"TA Harry Potter (later)\": \"I'll check. Outside my home rn\",\n",
    "    \"TA Harry Potter (recommendation)\": \"You should use an atom for state storage and combine it with a useEffect to fetch initial data on /dashboard load. It ensures updates reflect instantly by modifying the atom after every operation.\"\n",
    "  },\n",
    "  {\n",
    "    \"TANAY\": \"I am creating a project in NextJs. It was running fine but suddenly an error occurred while trying to animate the dropdown menu. Then I don't know why hydration error occurred. An error in global.css happened. When I undid the changes and re-ran the server, the error was gone but my styles were also gone.\",\n",
    "    \"TA Jack Sparrow\": \"Restart the server and try again. Also inspect the styles like if Tailwind is even working or not.\",\n",
    "    \"TANAY (response)\": \"It is showing but not applied.\",\n",
    "    \"TA Jack Sparrow (clarification)\": \"Check the style in inspect elements.\",\n",
    "    \"TANAY (clarification request)\": \"Also now it is showing hydration error.\",\n",
    "    \"TA Jack Sparrow (suggestion)\": \"Check Tailwind docs to set it up again.\"\n",
    "  },\n",
    "  {\n",
    "    \"Aniket\": \"Auth.tsx\\nimport { useRef } from \\\"react\\\";\\nimport { Button } from \\\"../components/Button\\\";\\nimport { Input } from \\\"../components/Input\\\";\\nimport { BACKEND_URL } from \\\"../../config\\\";\\nimport axios from \\\"axios\\\";\\n\\nexport const Signup = () => {\\n const usernameRef = useRef<HTMLInputElement>();\\n const passwordRef = useRef<HTMLInputElement>();\\n\\n const handleSignup = async () => {\\n try {\\n const username = usernameRef.current?.value;\\n // console.log(username)\\n const password = passwordRef.current?.value;\\n // console.log(password)\\n\\n await axios.post(BACKEND_URL + \\\"/api/v1/signup\\\", {\\n username,\\n password\\n });\\n } catch (error) {\\n console.log(error);\\n }\\n alert(\\\"User signed up!\\\");\\n };\\n\\n return (\\n <div className=\\\"flex justify-center items-center h-screen w-screen bg-gray-200\\\">\\n <div className=\\\"bg-white rounded-md min-w-48 flex items-center justify-center flex-col p-8\\\">\\n <Input reference={usernameRef} type=\\\"text\\\" placeholder=\\\"Username\\\" />\\n <Input reference={passwordRef} type=\\\"password\\\" placeholder=\\\"Password\\\" />\\n <div className=\\\"w-full mt-4\\\">\\n <Button\\n variant=\\\"primary\\\"\\n size=\\\"md\\\"\\n text=\\\"Signup\\\"\\n fullWidth={true}\\n onClick={handleSignup}\\n />\\n </div>\\n </div>\\n </div>\\n );\\n};\\n\\nexport const Signin = () => {\\n return (\\n <div className=\\\"flex justify-center items-center h-screen w-screen bg-gray-200\\\">\\n <div className=\\\"bg-white rounded-md min-w-48 flex items-center justify-center flex-col p-8\\\">\\n <Input type=\\\"text\\\" placeholder=\\\"Username\\\" />\\n <Input type=\\\"password\\\" placeholder=\\\"Password\\\" />\\n <div className=\\\"w-full mt-4\\\">\\n <Button variant=\\\"primary\\\" size=\\\"md\\\" text=\\\"Signin\\\" fullWidth={true} />\\n </div>\\n </div>\\n </div>\\n );\\n};\",\n",
    "    \"Aniket (mention)\": \"@TA (WebDev and Devops)\",\n",
    "    \"TA Harry Potter\": \"did you test the api in postman?\",\n",
    "    \"TA Tarun\": \"add origin: * inside cors()\",\n",
    "    \"Aniket (response)\": \"Yes\",\n",
    "    \"Aniket (try)\": \"Ok let me try\",\n",
    "    \"TA Harry Potter (advice)\": \"then enable it for the FE origin\\n\\napp.use(cors({\\n origin: process.env.FRONTEND_URL || \\\"http://localhost:5173\\\",\\n methods: ['GET', 'POST', 'PUT', 'DELETE'],\\n credentials: true\\n}));\\nif you wanna enable for all origin\",\n",
    "    \"TA Harry Potter (repeat)\": \"tarun add origin: \",\n",
    "    \"Aniket\": \"Updated the code still doesn't work\",\n",
    "    \"TA Harry Potter\": \"app.use(cors(\\\"\\\")) this?\",\n",
    "    \"Aniket\": \"you mean app.use(cors({\\n origin: \\\"*\\\",\\n})) ?\",\n",
    "    \"TA Harry Potter (confirmation)\": \"yeah\",\n",
    "    \"Aniket\": \"No\",\n",
    "    \"TA Harry Potter (question)\": \"did you rebuild the server?\",\n",
    "    \"Aniket\": \"Yes I did\",\n",
    "    \"TA Harry Potter (suggestion)\": \"try logging the inputs in server routes and see if you are getting right or not\",\n",
    "    \"Crytek\": \"reinstall the cors and re-import the cors module\",\n",
    "    \"Aniket (resolved)\": \"The issue is resolved now 🎉. I noticed that whenever I add \\\"return\\\" statement it gave me this error. When I removed the return statement, it worked. Can anyone explain this why\"\n",
    "  },\n",
    "\n",
    "]"
   ]
  },
  {
   "cell_type": "markdown",
   "metadata": {},
   "source": [
    "# OpenAI Assistant Inferencing\n",
    "Now, we have designed an assistant in openAI which will assist to summarise these chats and get them as valid json Q&A pairs. Below, we can see the process of inferencing the assistant and fetching the output."
   ]
  },
  {
   "cell_type": "code",
   "execution_count": 49,
   "metadata": {},
   "outputs": [],
   "source": [
    "openAI_client = OpenAI(api_key=OPENAI_API_KEY)\n",
    "assistant_id = openAI_client.beta.assistants.list().data[0].id"
   ]
  },
  {
   "cell_type": "markdown",
   "metadata": {},
   "source": [
    "Now, we have to create a thread. A thread here represents a conversation between a user and an assistant. Along with that, we should also sequentially add the messages from the conversation list to the thread."
   ]
  },
  {
   "cell_type": "code",
   "execution_count": 86,
   "metadata": {},
   "outputs": [],
   "source": [
    "thread = openAI_client.beta.threads.create()\n",
    "\n",
    "def create_QAPair(conversation):\n",
    "    openAI_client.beta.threads.messages.create(\n",
    "        thread_id=thread.id,\n",
    "        role=\"user\",\n",
    "        content= [{\n",
    "            \"type\" : \"text\",\n",
    "            \"text\" : json.dumps(conversation)\n",
    "        }]\n",
    "    )\n",
    "            \n",
    "    run = openAI_client.beta.threads.runs.create(\n",
    "        thread_id=thread.id,\n",
    "        assistant_id=assistant_id,\n",
    "    )\n",
    "    \n",
    "    return run\n",
    "\n",
    "def check_status(thread, run):\n",
    "    while True:\n",
    "        run = openAI_client.beta.threads.runs.retrieve(\n",
    "            thread_id=thread.id,\n",
    "            run_id=run.id\n",
    "        )\n",
    "        if run.status == 'completed':\n",
    "            messages = openAI_client.beta.threads.messages.list(\n",
    "                thread_id=thread.id\n",
    "            )\n",
    "            return messages\n",
    "        elif run.status in ['failed', 'cancelled', 'expired']:\n",
    "            raise Exception(f\"Run ended with status: {run.status}\")\n",
    "        time.sleep(1)\n",
    "         "
   ]
  },
  {
   "cell_type": "markdown",
   "metadata": {},
   "source": [
    "Now, let us run the thread individually for each conversation, get the output and append it to the list of outputs."
   ]
  },
  {
   "cell_type": "code",
   "execution_count": 102,
   "metadata": {},
   "outputs": [],
   "source": [
    "def get_QAs(conversations):\n",
    "    QAs = []\n",
    "    for conversation in conversations : \n",
    "        run = create_QAPair(conversation)\n",
    "        messages = check_status(thread, run)\n",
    "        if(messages):\n",
    "            QAs.append(messages.data[0].content[0].text.value)\n",
    "        else:\n",
    "            QAs.append({\"question\" : \"Not available\", \"answer\" : \"Not available\"})\n",
    "    return QAs"
   ]
  },
  {
   "cell_type": "code",
   "execution_count": 103,
   "metadata": {},
   "outputs": [],
   "source": [
    "QAs = get_QAs(conversations)"
   ]
  },
  {
   "cell_type": "code",
   "execution_count": 104,
   "metadata": {},
   "outputs": [
    {
     "data": {
      "text/plain": [
       "['{\"question\":\"I am getting an error while executing the code with \\'pnpm run dev\\' during the Excalidraw Project. Can someone help me solve this error?\",\"answer\":\"The issue was resolved by checking the configuration inside the http-backend app and ensuring the use of the latest version of Node.js. The teaching assistants suggested these steps, which helped in resolving the error.\"}',\n",
       " '{\"question\":\"How does a JWT work, and what is the role of the key in it?\",\"answer\":\"A JWT (JSON Web Token) works by taking a string and converting it into a token that can be used for authentication. The key plays a crucial role in signing and verifying the token, ensuring that it hasn\\'t been tampered with. The JWT consists of three parts: the payload, the secret key, and the expiry time. The payload contains the claims, the secret key is used by the server to verify the authenticity of the token, and the expiry time defines how long the token is valid. The server uses the secret key to compare and verify the token sent by the client, allowing the client to perform further activities only if the token is valid.\"}',\n",
       " '{\"question\":\"How can I ensure that my second brain app using Recoil fetches all data when the /dashboard component loads and updates the UI and backend immediately when operations are performed?\",\"answer\":\"To achieve this, you should use a Recoil atom for state storage and combine it with a useEffect hook to fetch the initial data when the /dashboard component loads. This setup ensures that the UI updates instantly by modifying the atom after every operation such as create, edit, or delete. This approach allows the UI to reflect changes immediately and also updates the backend accordingly.\"}',\n",
       " '{\"question\":\"I encountered a hydration error and styling issues in my Next.js project after trying to animate a dropdown menu. How can I resolve this?\",\"answer\":\"To resolve the hydration error and styling issues in your Next.js project, first restart the server and inspect the styles using the browser\\'s inspect element tool to ensure that Tailwind CSS is being loaded correctly. If the styles are showing but not applied, it might indicate a configuration issue with Tailwind. Additionally, refer to the Tailwind CSS documentation to verify that it is set up correctly in your project. This should help in resolving the hydration error and ensuring that your styles are applied properly.\"}',\n",
       " '{\"question\":\"I faced an issue with CORS in my application and resolved it by removing a \\'return\\' statement. Can anyone explain why this happened?\",\"answer\":\"The issue you faced might be related to how the \\'return\\' statement was used in your code, potentially affecting the flow of execution in your server routes. When dealing with middleware like CORS, it\\'s important to ensure that the middleware functions are properly executed and not prematurely terminated by a \\'return\\' statement. By removing the \\'return\\', you allowed the middleware to complete its execution, which resolved the issue. Additionally, ensuring that CORS is properly configured with the correct origin and methods, as suggested by the teaching assistants, is crucial for it to function correctly.\"}']"
      ]
     },
     "execution_count": 104,
     "metadata": {},
     "output_type": "execute_result"
    }
   ],
   "source": [
    "QAs"
   ]
  },
  {
   "cell_type": "code",
   "execution_count": null,
   "metadata": {},
   "outputs": [],
   "source": []
  },
  {
   "cell_type": "markdown",
   "metadata": {},
   "source": [
    "Now, each chunk will ideally belong to a documnent stored in S3 bucket in AWS. So, for now we will assume that the **KEY** of that document is in the format as given below which we will be using in the metadata. To simiplify the process, each entry in the vectorDB should have : \n",
    "\n",
    "* **ID** : The unique ID of the document, which will be a combination of the document key and the chunk number.\n",
    "* **VALUES** : The embedding of the chunk, as generated by the OpenAI text-embedding-3-small model.\n",
    "* **METADATA** : The metadata of the document, which will include the document key and the chunk number.\n",
    "    *  **USER_ID** : The ID of the user in our system.\n",
    "    *  **DOCUMENT_TYPE** : The type of the document from either \"pdf\" or \"text\".\n",
    "    *  **KEY** : The key of the document in the S3 bucket, which defines the location of the document.\n",
    "    *  **CHUNK** : The text of the chunk.\n",
    "    *  **PAGE_NUMBER** : The page number of the chunk in the document.\n",
    "    *  **CHUNK_INDEX** : The number of the chunk in the document.\n",
    "\n",
    "Since most of the information will be given by the backend server, for now we will use dummy values for the metadata."
   ]
  },
  {
   "cell_type": "code",
   "execution_count": 19,
   "metadata": {},
   "outputs": [],
   "source": [
    "KEY = \"61f100abx/pdf/W9-react\"\n",
    "USER_ID = \"61f100abx\"\n",
    "DOCUMENT_TYPE = \"pdf\""
   ]
  },
  {
   "cell_type": "markdown",
   "metadata": {},
   "source": [
    "Let us now create the function to create vectors in our desired format as defined above."
   ]
  },
  {
   "cell_type": "code",
   "execution_count": 20,
   "metadata": {},
   "outputs": [],
   "source": [
    "def create_vectors(text_chunks,KEY,USER_ID,DOCUMENT_TYPE):\n",
    "    v = []\n",
    "    chunk_num = 0\n",
    "    \n",
    "    for chunk in text_chunks: \n",
    "        page_num = chunk.metadata[\"page\"]\n",
    "        \n",
    "        entry = {}\n",
    "        entry[\"id\"] = f\"{KEY}_PAGE_{page_num}_CHUNK_{chunk_num}\"\n",
    "        entry[\"values\"] = get_embedding(chunk.page_content)\n",
    "        entry[\"metadata\"] = {\n",
    "            \"userID\" : USER_ID,\n",
    "            \"type\" : DOCUMENT_TYPE,\n",
    "            \"key\" : KEY,\n",
    "            \"chunk\" : chunk.page_content,\n",
    "            \"page_number\" : chunk.metadata[\"page\"],\n",
    "            \"chunk_number\" : chunk_num\n",
    "        }\n",
    "        \n",
    "        chunk_num += 1\n",
    "        v.append(entry)\n",
    "        \n",
    "    return v"
   ]
  },
  {
   "cell_type": "code",
   "execution_count": 21,
   "metadata": {},
   "outputs": [],
   "source": [
    "vectors = create_vectors(text_chunks,KEY,USER_ID,DOCUMENT_TYPE)"
   ]
  },
  {
   "cell_type": "markdown",
   "metadata": {},
   "source": [
    "With this, we have our vectors stored in the ideal format to be pushed into the vector DB. Let us now push the vectors into the vectorDB of pinecone."
   ]
  },
  {
   "cell_type": "markdown",
   "metadata": {},
   "source": [
    "# Pushing the Vectors into the Pinecone Index"
   ]
  },
  {
   "cell_type": "code",
   "execution_count": 22,
   "metadata": {},
   "outputs": [
    {
     "data": {
      "text/plain": [
       "{'upserted_count': 108}"
      ]
     },
     "execution_count": 22,
     "metadata": {},
     "output_type": "execute_result"
    }
   ],
   "source": [
    "index_name = \"documents\"\n",
    "while not pc.describe_index(index_name).status['ready']:\n",
    "    time.sleep(1)\n",
    "\n",
    "index = pc.Index(index_name)\n",
    "\n",
    "index.upsert(\n",
    "    vectors=vectors\n",
    ")"
   ]
  },
  {
   "cell_type": "markdown",
   "metadata": {},
   "source": [
    "# Querying the Vectors\n",
    "We shall now query the vectors to check if the vectors have been stored correctly in the pinecone index, and how does this exactly work. We will fetch the relevant vectors from the pinecone index. For that, we will create a function which takes a text query, converts into to an embedding and queries the pinecone index to get the most similar texts from the vectors stored in the index."
   ]
  },
  {
   "cell_type": "code",
   "execution_count": 25,
   "metadata": {},
   "outputs": [],
   "source": [
    "def get_relevant_chunks(query,userID,KEY):\n",
    "    query_vector = get_embedding(query)\n",
    "    \n",
    "    results = index.query(\n",
    "        vector = query_vector,\n",
    "        top_k = 10,\n",
    "        include_values = False,\n",
    "        include_metadata = True,\n",
    "        filter={\n",
    "            \"userID\" : userID,\n",
    "            \"key\" : KEY\n",
    "        }\n",
    "    )\n",
    "    \n",
    "    relevant_texts = []\n",
    "    for record in results['matches']:\n",
    "        text = {}\n",
    "        text['score'] = record['score']\n",
    "        text['text'] = record['metadata']['chunk']\n",
    "        text[\"reference\"] = int(record[\"metadata\"][\"page_number\"]) + 1\n",
    "        relevant_texts.append(text)\n",
    "    \n",
    "    return relevant_texts"
   ]
  },
  {
   "cell_type": "markdown",
   "metadata": {},
   "source": [
    "Finally, we can create a QA system which will take a query and return the most relevant chunks from the PDF document."
   ]
  },
  {
   "cell_type": "code",
   "execution_count": 26,
   "metadata": {},
   "outputs": [
    {
     "name": "stdout",
     "output_type": "stream",
     "text": [
      "Rank 0.597881198 \n",
      " Reference 6 \n",
      " Answer: \n",
      " The useEffect hook let s you perform side ef fects in functional component s in a \n",
      "safe, predictable way:\n",
      "useEffect (() => {\n",
      "  // Code here is the \"effect\" — this is where side effects  \n",
      "happen\n",
      "  fetchData ();\n",
      "  // Optionally, return a cleanup function that runs when t\n",
      "he component unmounts.\n",
      "  return () => {\n",
      "    // Cleanup code, e.g., unsubscribing from an event or c\n",
      "------------------------\n",
      "Rank 0.555085778 \n",
      " Reference 7 \n",
      " Answer: \n",
      " Optional Cle anup If your side ef fect needs cle anup (e.g., unsubscr ibing \n",
      "from a WebSocket, clearing intervals), useEffect allows you to return a \n",
      "function that R eact will c all when the component unmount s or before re-\n",
      "running the ef fect.\n",
      "T o  r e c a p\n",
      "useEffect is a Hook that let s you perform side ef fects in functional component s. \n",
      "It can be used f or data fetching, subscr iptions, or manuall y changing the DOM.\n",
      "L i n k e d i n  l i k e  t o p b a r\n",
      "------------------------\n",
      "Rank 0.488263339 \n",
      " Reference 7 \n",
      " Answer: \n",
      " W9  React\n",
      "7learing timers.\n",
      "  };\n",
      "}, [/* dependencies */ ]);\n",
      "The f irst ar gument  to useEffect is the ef fect function, wher e you put the  \n",
      "code that per forms the side ef fect.\n",
      "The second ar gument  is the dependencies ar ray, which contr ols when the  \n",
      "effect runs. This ar ray tells React to re-run the ef fect only when cer tain \n",
      "values (pr ops or st ate) change. If y ou pass an empt y array [], the effect \n",
      "will only run  once after the initial r ender.\n",
      "------------------------\n",
      "Rank 0.459469587 \n",
      " Reference 5 \n",
      " Answer: \n",
      " <div style ={{display: \"flex\", justifyContent : \"cen\n",
      "ter\" }}>\n",
      "        <div>\n",
      "          {postComponents }\n",
      "        </div>\n",
      "      </div>\n",
      "    </div>\n",
      "  )\n",
      "}\n",
      "export default App\n",
      "UseEf f ect\n",
      "Before we underst and useEffect , letʼs underst and what ar e Side effects.\n",
      "S i d e  e f f e c t s\n",
      "Side effects are operations that int eract with the out side world or have effects \n",
      "beyond the component's r endering. Examples include:\n",
      "------------------------\n",
      "Rank 0.450217575 \n",
      " Reference 6 \n",
      " Answer: \n",
      " component (in the r eturn statement or bef ore it), React would run that code  \n",
      "every time the component r enders. This c an lead to:\n",
      "Unnecessar y or duplic at ed ef f ect s (like multiple API c alls).\n",
      "Inconsist ent beha vior (side ef fects might happen bef ore rendering \n",
      "finishes).\n",
      "P er f or mance issues  (side ef fects could block r endering or cause \n",
      "excessive re-rendering).\n",
      "H o w  useEffect   M a n a g e s  S i d e  E f f e c t s :\n",
      "------------------------\n",
      "Rank 0.3906295 \n",
      " Reference 48 \n",
      " Answer: \n",
      " 1)}>Increase </button>;\n",
      "}\n",
      "function  Value() {\n",
      "  const countValue = useRecoilValue (count);\n",
      "  return <p>Count: {countValue }</p>;\n",
      "}\n",
      "// App Component\n",
      "const App = () => {\n",
      "  return <div>\n",
      "    <Parent />\n",
      "  </div>\n",
      "};\n",
      "------------------------\n",
      "Rank 0.370173365 \n",
      " Reference 6 \n",
      " Answer: \n",
      " W9  React\n",
      "6F et ching dat a from an API.\n",
      "Modifying t he DOM  manuall y.\n",
      "Subscr ibing t o e v ent s (like WebSocket connections, timers, or br owser \n",
      "events).\n",
      "St ar ting a clock\n",
      "These ar e called side ef fects because the y don't just comput e output b ased on  \n",
      "the input—the y affect things out side the component it self.\n",
      "P r o b l e m  i n  r u n n i n g  s i d e  e f f e c t s  i n  R e a c t  c o m p o n e n t s\n",
      "If you try to introduce side ef fects directly in the r endering logic of a\n",
      "------------------------\n",
      "Rank 0.368439764 \n",
      " Reference 19 \n",
      " Answer: \n",
      " }, [count]); // Runs on mount and when count changes\n",
      "useEffect (() => {\n",
      "    console .log('Component mounted' );\n",
      "    return () => {\n",
      "      console.log('Component will unmount' );\n",
      "    };\n",
      "}, [])\n",
      "  return (\n",
      "    <div>\n",
      "      <p>Count: {count}</p>\n",
      "      <button onClick ={() => setCount (count + 1)}>Increment\n",
      "------------------------\n",
      "Rank 0.360493451 \n",
      " Reference 34 \n",
      " Answer: \n",
      " import { useState , useEffect } from 'react';\n",
      "const useDebounce  = (value, delay) => {\n",
      "    const [debouncedValue , setDebouncedValue ] = useState\n",
      "(value);\n",
      "    useEffect (() => {\n",
      "        const handler = setTimeout (() => {\n",
      "            setDebouncedValue (value);\n",
      "        }, delay);\n",
      "------------------------\n",
      "Rank 0.348624319 \n",
      " Reference 45 \n",
      " Answer: \n",
      " W9  React\n",
      "45function  Decrease () {\n",
      "  const {count, setCount } = useContext (CountContext );\n",
      "  return <button onClick ={() => setCount (count - 1)}>Decrea\n",
      "se</button>;\n",
      "}\n",
      "function  Incrase() {\n",
      "  const {count, setCount } = useContext (CountContext );\n",
      "  return <button onClick ={() => setCount (count + 1)}>Increa\n",
      "se</button>;\n",
      "}\n",
      "function  Value() {\n",
      "  const {count} = useContext (CountContext );\n",
      "  return <p>Count: {count}</p>;\n",
      "}\n",
      "// App Component\n",
      "const App = () => {\n",
      "  return <div>\n",
      "    <Parent />\n",
      "------------------------\n",
      "------------------------------------------------------------------------------------------------------------------------\n",
      "Exiting\n"
     ]
    },
    {
     "ename": "SystemExit",
     "evalue": "",
     "output_type": "error",
     "traceback": [
      "An exception has occurred, use %tb to see the full traceback.\n",
      "\u001b[0;31mSystemExit\u001b[0m\n"
     ]
    }
   ],
   "source": [
    "import sys \n",
    "while True:\n",
    "    user_input = input(f\"Input Prompt: \")\n",
    "    if user_input=='exit':\n",
    "        print( 'Exiting')\n",
    "        sys.exit()\n",
    "    if user_input == '':\n",
    "        continue\n",
    "    \n",
    "    docs = get_relevant_chunks(user_input,USER_ID,KEY)\n",
    "        \n",
    "    for doc in docs:\n",
    "        print(f\"Rank {doc['score']} \\n Reference {doc['reference']} \\n Answer: \\n {doc['text']}\")\n",
    "        print(\"------------------------\")\n",
    "\n",
    "    print(\"------------------------------------------------------------------------------------------------------------------------\")\n",
    "        "
   ]
  },
  {
   "cell_type": "markdown",
   "metadata": {},
   "source": [
    "With this, our pipeline is complete and we can now move on to the next steps which is sending these relvant documents to the LLM to answer our query."
   ]
  },
  {
   "cell_type": "markdown",
   "metadata": {},
   "source": [
    "# Prompt Template for the LLM\n",
    "Here, we will need to define the prompt for the LLM to answer the query. The LLM will be given the query and the relevant documents, and it will be expected to return the answer to the query. "
   ]
  },
  {
   "cell_type": "code",
   "execution_count": 27,
   "metadata": {},
   "outputs": [],
   "source": [
    "query_prompt_template = \"\"\"\n",
    "    You are a specialised AI document analyser working at an edtech startup, and you will be assisting the users to answer their queries. You will be given \n",
    "    the top relevant documents and you have to use those to answer the query asked by the user, which will be given to you below. \n",
    "    In the relevant documents,you will be given the cosine similarity score, the reference (which is the page number where this \n",
    "    text was in the document) and the text itself. You can in you answer integrate the reference to build authenticity of your answer, \n",
    "    by precisely writing it like (reference page : page_num)\n",
    "    \n",
    "    \\n\\n User Query : {query}\n",
    "    \\n\\n Documents : {documents}\n",
    "    \n",
    "    MAKE SURE YOU DO NOT ANSWER FROM ANYTHING APART FROM THE DOCUMENTS GIVEN TO YOU. \n",
    "\"\"\""
   ]
  },
  {
   "cell_type": "code",
   "execution_count": 28,
   "metadata": {},
   "outputs": [],
   "source": [
    "query_prompt = PromptTemplate(\n",
    "    input_variables=[\"query\",\"documents\"],\n",
    "    template=query_prompt_template\n",
    ")"
   ]
  },
  {
   "cell_type": "markdown",
   "metadata": {},
   "source": [
    "# Initializing the LLM Client and Chain for RAG Model"
   ]
  },
  {
   "cell_type": "code",
   "execution_count": 29,
   "metadata": {},
   "outputs": [],
   "source": [
    "chat = ChatOpenAI(\n",
    "    temperature = 0,  \n",
    "    model = \"gpt-4o\",\n",
    "    openai_api_key = OPENAI_API_KEY\n",
    ")"
   ]
  },
  {
   "cell_type": "code",
   "execution_count": 30,
   "metadata": {},
   "outputs": [],
   "source": [
    "query_chain = LLMChain(\n",
    "    llm=chat,\n",
    "    prompt=query_prompt\n",
    ")"
   ]
  },
  {
   "cell_type": "markdown",
   "metadata": {},
   "source": [
    "# Q&A System using the chain"
   ]
  },
  {
   "cell_type": "code",
   "execution_count": 32,
   "metadata": {},
   "outputs": [
    {
     "name": "stdout",
     "output_type": "stream",
     "text": [
      "Response from LLM:\n",
      "The `useState` hook is a fundamental part of React that allows you to add state to functional components. It returns an array with two elements: the current state value and a function to update that state. Here's a basic example to illustrate how `useState` works:\n",
      "\n",
      "1. **Counter Example**:\n",
      "   ```javascript\n",
      "   import React, { useState } from 'react';\n",
      "\n",
      "   const Counter = () => {\n",
      "     const [count, setCount] = useState(0);\n",
      "\n",
      "     return (\n",
      "       <div>\n",
      "         <p>You clicked {count} times</p>\n",
      "         <button onClick={() => setCount(count + 1)}>\n",
      "           Click me\n",
      "         </button>\n",
      "       </div>\n",
      "     );\n",
      "   };\n",
      "   ```\n",
      "   In this example, `useState(0)` initializes the state variable `count` to 0. The `setCount` function is used to update the state whenever the button is clicked, incrementing the count by 1 (reference page: 1).\n",
      "\n",
      "2. **Posts Example**:\n",
      "   ```javascript\n",
      "   import { useState } from \"react\";\n",
      "   import { PostComponent } from \"./Post\";\n",
      "\n",
      "   function App() {\n",
      "     const [posts, setPosts] = useState([]);\n",
      "\n",
      "     const postComponents = posts.map(post => (\n",
      "       <PostComponent\n",
      "         name={post.name}\n",
      "         subtitle={post.subtitle}\n",
      "         time={post.title}\n",
      "         image={post.image}\n",
      "         description={post.description}\n",
      "       />\n",
      "     ));\n",
      "\n",
      "     function addPost() {\n",
      "       // Logic to add a new post\n",
      "     }\n",
      "\n",
      "     return (\n",
      "       <div>\n",
      "         {postComponents}\n",
      "         <button onClick={addPost}>Add Post</button>\n",
      "       </div>\n",
      "     );\n",
      "   }\n",
      "   ```\n",
      "   Here, `useState([])` initializes the `posts` state as an empty array. The `setPosts` function can be used to update this array, for example, by adding new posts (reference page: 4).\n",
      "\n",
      "These examples demonstrate how `useState` can be used to manage state in functional components, allowing for dynamic updates and interactions within a React application.\n"
     ]
    }
   ],
   "source": [
    "user_query = \"could you explain useState with some examples?\"\n",
    "docs = get_relevant_chunks(user_query,USER_ID,KEY)\n",
    "\n",
    "# Run the chain\n",
    "response = query_chain.invoke({\n",
    "    \"query\": user_query,\n",
    "    \"documents\": docs\n",
    "})\n",
    "\n",
    "# Print the response\n",
    "print(\"Response from LLM:\")\n",
    "print(response['text'])"
   ]
  },
  {
   "cell_type": "markdown",
   "metadata": {},
   "source": [
    "Here, we have successfully built the RAG model and the Q&A system using the chain. With this, we get the functionality to query the relevant documents and get the answer to the query."
   ]
  },
  {
   "cell_type": "markdown",
   "metadata": {},
   "source": [
    "# Deleting via Pinecone (Listing indexes with prefix and then deleting the index)"
   ]
  },
  {
   "cell_type": "code",
   "execution_count": null,
   "metadata": {},
   "outputs": [],
   "source": [
    "index_name = \"documents\"\n",
    "\n",
    "\n",
    "index = pc.Index(index_name)\n",
    "list1 = []\n",
    "for ids in index.list(prefix=KEY):\n",
    "  list1.append(ids)"
   ]
  },
  {
   "cell_type": "code",
   "execution_count": 16,
   "metadata": {},
   "outputs": [
    {
     "data": {
      "text/plain": [
       "{}"
      ]
     },
     "execution_count": 16,
     "metadata": {},
     "output_type": "execute_result"
    }
   ],
   "source": [
    "KEY = \"674313bc5cbbf2d8da2a4649/pdf/\"\n",
    "res = index.delete([ids for ids in index.list(prefix=KEY)])\n",
    "res"
   ]
  }
 ],
 "metadata": {
  "kernelspec": {
   "display_name": "Python 3",
   "language": "python",
   "name": "python3"
  },
  "language_info": {
   "codemirror_mode": {
    "name": "ipython",
    "version": 3
   },
   "file_extension": ".py",
   "mimetype": "text/x-python",
   "name": "python",
   "nbconvert_exporter": "python",
   "pygments_lexer": "ipython3",
   "version": "3.11.3"
  }
 },
 "nbformat": 4,
 "nbformat_minor": 2
}
