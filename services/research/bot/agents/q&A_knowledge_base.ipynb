{
 "cells": [
  {
   "cell_type": "markdown",
   "metadata": {},
   "source": [
    "# Dependencies"
   ]
  },
  {
   "cell_type": "code",
   "execution_count": null,
   "metadata": {},
   "outputs": [],
   "source": [
    "from pinecone import Pinecone\n",
    "\n",
    "from langchain_core.tools import tool\n",
    "from pydantic.v1 import BaseModel, Field\n",
    "from openai import OpenAI\n",
    "\n",
    "from pydantic import BaseModel, Field, ValidationError\n",
    "from typing import List, Dict, Optional\n",
    "\n",
    "\n",
    "import os\n",
    "\n",
    "from dotenv import load_dotenv\n",
    "load_dotenv()\n",
    "\n",
    "import os\n",
    "import json\n",
    "from crewai import Agent, Task, Crew, Process\n",
    "from textwrap import dedent\n",
    "\n",
    "from pydantic import BaseModel, Field\n",
    "from typing import Optional\n",
    "\n",
    "OPENAI_API_KEY = os.getenv(\"OPENAI_API_KEY\")\n",
    "PINECONE_API_KEY = os.getenv(\"PINECONE_API_KEY\")\n",
    "PINECONE_API_ENV = os.getenv(\"PINECONE_API_ENV\")\n",
    "PINECONE_QA_BASE_INDEX_NAME = os.getenv(\"PINECONE_QA_BASE_INDEX_NAME\")\n",
    "PINECONE_KNOWLEDGE_BASE_INDEX_NAME = os.getenv(\"PINECONE_KNOWLEDGE_BASE_INDEX_NAME\")"
   ]
  },
  {
   "cell_type": "markdown",
   "metadata": {},
   "source": [
    "# Client Initialisation\n",
    "Now, we will be using the openAI client to get embeddings, as we would be needing in our model along with neccessary intialisations."
   ]
  },
  {
   "cell_type": "code",
   "execution_count": 82,
   "metadata": {},
   "outputs": [],
   "source": [
    "openAI_client = OpenAI(api_key=OPENAI_API_KEY)\n",
    "embedding_model = openAI_client.embeddings\n",
    "pc = Pinecone(api_key = PINECONE_API_KEY, environment = PINECONE_API_ENV)\n",
    "index = pc.Index(PINECONE_QA_BASE_INDEX_NAME)\n",
    "\n",
    "def get_embedding(text) :\n",
    "    \"\"\"\n",
    "        Function to convert the text string into embeddings using text-embedding-3-small from OpenAI\n",
    "    \n",
    "        Args:\n",
    "            text : A string which will contain either the text chunk or the user query\n",
    "            \n",
    "        Returns:\n",
    "            vector : A vector of 1536 dimensions\n",
    "    \"\"\"\n",
    "    \n",
    "    try:\n",
    "        response = embedding_model.create(\n",
    "            input=text,\n",
    "            model=\"text-embedding-3-small\"\n",
    "        )\n",
    "        \n",
    "        return response.data[0].embedding   \n",
    "    \n",
    "    except Exception as e:\n",
    "        raise Exception(str(e))\n",
    "    "
   ]
  },
  {
   "cell_type": "markdown",
   "metadata": {},
   "source": [
    "Now, to use the above, we need to create these functions as a collective tool, which can be used by an agent to query the vector DB."
   ]
  },
  {
   "cell_type": "markdown",
   "metadata": {},
   "source": [
    "# Tool Creation\n",
    "Now, we would have to create tools for this purpose, as asynchronus functions which await till the vector DB is loaded and then query the vector DB, evnetually returning the relevant texts. As the admin id will be a fixed one, we will be directly referring it from the environment."
   ]
  },
  {
   "cell_type": "code",
   "execution_count": 83,
   "metadata": {},
   "outputs": [],
   "source": [
    "@tool\n",
    "def answer_query_qa(query):\n",
    "    \"\"\"\n",
    "        Find relevant documents for a given query and answer the query using the relevant documents.\n",
    "        \n",
    "        Args:\n",
    "        - query (str): The search query will be in string format which will be passed straight to the LLM to find the relevant documents.\n",
    "        \n",
    "        Returns:\n",
    "            The relevant documents from the database, given the query\n",
    "    \"\"\"\n",
    "    query_vector = get_embedding(query)\n",
    "    \n",
    "    results = index.query(\n",
    "        vector = query_vector,\n",
    "        top_k = 10,\n",
    "        include_values = False,\n",
    "        include_metadata = True,\n",
    "        filter={\n",
    "            \"ADMIN_ID\" : \"d359d72b-40e8-4e9f-b567-62d77f273113\",\n",
    "        }\n",
    "    )\n",
    "    \n",
    "    relevant_pairs = []\n",
    "    for record in results['matches']:\n",
    "        pair = {}\n",
    "        pair['id'] = record['metadata']['QA_ID']\n",
    "        pair['score'] = record['score']\n",
    "        pair['question'] = record['metadata']['question']\n",
    "        pair['answer'] = record['metadata']['answer']\n",
    "        relevant_pairs.append(pair)\n",
    "    \n",
    "    if not relevant_pairs : \n",
    "        return [{\n",
    "            'id' : 'NA',\n",
    "            'score' : -1.00,\n",
    "            'question' : query,\n",
    "            'answer' : \"We could not find any relevant documents for the given query\"\n",
    "        }]\n",
    "        \n",
    "    return relevant_pairs\n",
    "    "
   ]
  },
  {
   "cell_type": "markdown",
   "metadata": {},
   "source": [
    "# Agents\n",
    "Now, we will have to make the tools for the agent and make it ready to be used. We will be using three agents : \n",
    "\n",
    "1. Researcher\n",
    "2. Writer\n",
    "3. Editor\n",
    "\n",
    "To give recommendations to any previosuly solved query before."
   ]
  },
  {
   "cell_type": "code",
   "execution_count": 84,
   "metadata": {},
   "outputs": [],
   "source": [
    "researcher = Agent(\n",
    "    role = \"researcher\",\n",
    "    goal = \"To research and find the relevant Q&As from the past to the query {query}\",\n",
    "    backstory = \"\"\"\n",
    "            You work as a researcher in an edtech startup 100xDevs, where your primary job is to research and give all the \n",
    "            relevant documents/chunks of previously solved Q&As, where your task is to collate those references which will \n",
    "            aid to solve the query : {query}. Your work will be directly passed to the writer, hence make sure you provide \n",
    "            references only which you can quote with the relevant thread ID (you will find it as id). You have been given a tool \n",
    "            to fetch the most relevant documents, which will give you a list of all the relevant documents, which \n",
    "            consist of question, answer, id (this will be that thread's id on discord) and a score for you to evaluate on which is most relevant.\n",
    "            In case you get irrelevant documents, the tool has handled that too and you just need to pass it on to the writer.\n",
    "    \"\"\",\n",
    "    verbose = True,\n",
    "    allow_delegation = False,\n",
    "    tools = [answer_query_qa]\n",
    ")"
   ]
  },
  {
   "cell_type": "code",
   "execution_count": 85,
   "metadata": {},
   "outputs": [],
   "source": [
    "writer = Agent(\n",
    "    role = \"writer\",\n",
    "    goal = \"To structure and answer the query : {query} given the relevant documents from the researcher\",\n",
    "    backstory = \"\"\"\n",
    "            You are a recommendation analyst working at an edTech startup 100xDevs, where your job is to recommend the students \n",
    "            on whether their query or something similar has been answered before, given the query : {query}. \\n\n",
    "            Your work is dependent on the work of the researcher, who will bring you all the relevant information and your job is to collate it into a proper \n",
    "            explanation of what the question was and how it was solved (make sure to keep the entire solution/answer intact) along with it's reference.\n",
    "            You will be writing your recommendation with acknowledging and referencing each factual statement as given by the researcher, \n",
    "            hence it is important you MUST give the thread ID to your editor, should you find a relevant answer.\\n\n",
    "            In case you find the research to be irrelevant, you can just let your editor know that there is no such query or solution solved \n",
    "            previously to the said developer. There is no need to solve it yourself, only solve if your have the relevant research.\n",
    "    \"\"\",\n",
    "    allow_delegation = False,\n",
    "    verbose = True,\n",
    ")"
   ]
  },
  {
   "cell_type": "code",
   "execution_count": 98,
   "metadata": {},
   "outputs": [],
   "source": [
    "editor = Agent(\n",
    "    role = \"editor\",\n",
    "    goal = \"To edit the writer's recommendation to answer the query : {query} and interact with new student queries\",\n",
    "    backstory = \"\"\"\n",
    "            You are the senior editor at an edTech startup 100xDevs, where your job is to handle and give recommendation messages to the\n",
    "            new queries created by students on our discord channel. You work is dependent on the writer's content piece, as that would have information\n",
    "            on the most relevant answer and reference they could find to the query : {query}. In case the writer is unable to produce any results or \n",
    "            denies any relevant findings to base their content on, you do not need to pass anything to the user as handled in your task.\\n\n",
    "    \"\"\",\n",
    "    allow_delegation = False,\n",
    "    verbose = True,\n",
    ")"
   ]
  },
  {
   "cell_type": "markdown",
   "metadata": {},
   "source": [
    "# Tasks"
   ]
  },
  {
   "cell_type": "code",
   "execution_count": 87,
   "metadata": {},
   "outputs": [],
   "source": [
    "class ResearcherDocuments(BaseModel) : \n",
    "    id : str = Field(...,description=\"The discord ID of the thread, from which this document is quoted\")\n",
    "    score : float = Field(...,description=\"The score implying the relvance of this document to the given query, with 0 being the lowest and 1 being the highest, and -1 being irrelevant\")\n",
    "    question : str = Field(...,description=\"The question which was asked in that document\")\n",
    "    answer : str = Field(...,description=\"The answer which was provided earlier in that document\")"
   ]
  },
  {
   "cell_type": "code",
   "execution_count": 88,
   "metadata": {},
   "outputs": [],
   "source": [
    "class ResearcherOutput(BaseModel) : \n",
    "    research : List[ResearcherDocuments] = Field(...,description=\"The discord ID of the thread, from which this document is quoted\")"
   ]
  },
  {
   "cell_type": "code",
   "execution_count": 89,
   "metadata": {},
   "outputs": [],
   "source": [
    "research = Task(\n",
    "    description=\"To research and find the most relevant documents and references to the given query : {query}\",\n",
    "    expected_output=\"\"\"A list consisting of all the relevant documents, where each document (JSON) follows the structure : \n",
    "        id : The thread ID of that conversation on discord\n",
    "        score : The relevance of the said document, with 0 being lowest and 1 being highest and -1 being irrelvant\n",
    "        question : The primary question which was asked in the thread\n",
    "        answer : The answer/solution which was provided to that thread\n",
    "    \"\"\",\n",
    "    agent=researcher,\n",
    "    parameters={\"query\": \"str\"},\n",
    "    output_pydantic= ResearcherOutput\n",
    ")"
   ]
  },
  {
   "cell_type": "code",
   "execution_count": 90,
   "metadata": {},
   "outputs": [],
   "source": [
    "class WriterOutput(BaseModel) : \n",
    "    id : Optional[str] = Field(...,description=\"The discord ID of the thread, from which this document is quoted\")\n",
    "    content : str = Field(...,description=\"The content written by the writer to answer the query, given the research\")"
   ]
  },
  {
   "cell_type": "code",
   "execution_count": 91,
   "metadata": {},
   "outputs": [],
   "source": [
    "write = Task(\n",
    "    description=\"To write content providing the solution to the query : {query}, given the research done by researcher\",\n",
    "    expected_output=\"\"\"A object consisting of all the content written by the writer, where it follows the structure : \n",
    "        id : The thread ID of that conversation on discord, only if the writer is able to find relevant content (This is an OPTIONAL key)\n",
    "        content : The content piece written by the writer, if they are supported by the research team\n",
    "    \"\"\",\n",
    "    agent=writer,\n",
    "    output_pydantic=WriterOutput\n",
    ")"
   ]
  },
  {
   "cell_type": "code",
   "execution_count": 92,
   "metadata": {},
   "outputs": [],
   "source": [
    "class EditorOutput(BaseModel) : \n",
    "    status : int = Field(...,description=\"The status code of the answer given by the agent\")\n",
    "    relevance : bool = Field(...,description=\"Whether the team was able to find a potentially relevant solution or not\")\n",
    "    solution : Optional[str] = Field(...,description=\"The final output given by the team, given that they are able to find a relevant solution\")\n",
    "    source : Optional[str] = Field(...,description=\"The reference to the answer, which is the exact thread ID on discord, given that they are able to find a relevant solution \")"
   ]
  },
  {
   "cell_type": "code",
   "execution_count": 93,
   "metadata": {},
   "outputs": [],
   "source": [
    "edit = Task(\n",
    "    description=\"To edit and give the status of work and final output as a recommendation to the student, if any content given by writer\",\n",
    "    expected_output=\"\"\"A object consisting of all the final output given by the editor, with the structure of it as follows : \n",
    "        status : The status code of the team's findings. If any content given by writer, then 200 else 404.\n",
    "        relevance : A boolean value indicating whether the team was able to complete the task or not\n",
    "        solution : The final edited solution from the editor, if none then give the string \"NA\"\n",
    "        source : The exact thread ID on discord from which this solution is quoted, if none then give the string \"NA\"\n",
    "    \"\"\",\n",
    "    agent=editor,\n",
    "    output_pydantic=EditorOutput\n",
    ")"
   ]
  },
  {
   "cell_type": "markdown",
   "metadata": {},
   "source": [
    "# Crew"
   ]
  },
  {
   "cell_type": "code",
   "execution_count": 94,
   "metadata": {},
   "outputs": [
    {
     "name": "stderr",
     "output_type": "stream",
     "text": [
      "Overriding of current TracerProvider is not allowed\n"
     ]
    }
   ],
   "source": [
    "crew = Crew(\n",
    "    agents=[researcher,writer,editor], \n",
    "    tasks=[research,write,edit],\n",
    "    memory=True,\n",
    "    verbose=True\n",
    ")"
   ]
  },
  {
   "cell_type": "markdown",
   "metadata": {},
   "source": [
    "# Execution"
   ]
  },
  {
   "cell_type": "code",
   "execution_count": 76,
   "metadata": {},
   "outputs": [
    {
     "name": "stdout",
     "output_type": "stream",
     "text": [
      "\u001b[1m\u001b[95m# Agent:\u001b[00m \u001b[1m\u001b[92mresearcher\u001b[00m\n",
      "\u001b[95m## Task:\u001b[00m \u001b[92mTo research and find the most relevant documents and references to the given query : I was having issues in my NEXTJS project, as I tried to animate the dropdown menu, I got a hydration error.\u001b[00m\n",
      "\n",
      "\n",
      "\u001b[1m\u001b[95m# Agent:\u001b[00m \u001b[1m\u001b[92mresearcher\u001b[00m\n",
      "\u001b[95m## Using tool:\u001b[00m \u001b[92manswer_query_qa\u001b[00m\n",
      "\u001b[95m## Tool Input:\u001b[00m \u001b[92m\n",
      "\"{\\\"query\\\": \\\"I was having issues in my NEXTJS project, as I tried to animate the dropdown menu, I got a hydration error.\\\"}\"\u001b[00m\n",
      "\u001b[95m## Tool Output:\u001b[00m \u001b[92m\n",
      "\n",
      "    \n",
      "\n",
      " User Query : I was having issues in my NEXTJS project, as I tried to animate the dropdown menu, I got a hydration error.\n",
      "    \n",
      "\n",
      " Documents : [{'id': '9cef8bde-c6a7-4758-a736-7d2097c0b38a', 'score': 0.728818119, 'question': 'I encountered a hydration error in my Next.js project while trying to animate a dropdown menu, and after undoing changes, my styles disappeared. How can I resolve this?', 'answer': \"To resolve the hydration error and styling issues in your Next.js project, first restart the server and inspect the styles using the browser's inspect element tool to ensure that Tailwind CSS is being loaded correctly. If the styles are showing but not applied, it might indicate a configuration issue with Tailwind CSS. Check the Tailwind CSS documentation to ensure it is set up correctly in your project. This may involve verifying your Tailwind configuration file and ensuring that the necessary classes are being generated and applied.\"}, {'id': '2cef8bde-c6a7-4758-a736-7d2097c0b38a', 'score': 0.428882271, 'question': \"I am getting an error while executing the code for the Excalidraw Project using 'pnpm run dev'. Can someone help me solve this error?\", 'answer': 'The issue was resolved by checking the configuration of the http-server in the package.json file and ensuring the use of the latest version of Node.js. The teaching assistants suggested configuring the http-backend app and updating Node.js, which helped in resolving the error.'}, {'id': '2cef8bde-c6a7-4758-a836-7d2097c0b38a', 'score': 0.381962448, 'question': \"I encountered an issue with CORS in my application, and it was resolved by removing a 'return' statement. Can someone explain why this happened?\", 'answer': 'The issue with CORS was resolved by adjusting the middleware configuration. Initially, there was a suggestion to use `app.use(cors())` with an empty string, which was corrected by adding `origin: *` to allow all origins. Further advice was given to specify the frontend origin using `app.use(cors({ origin: process.env.FRONTEND_URL || \"http://localhost:5173\", methods: [\\'GET\\', \\'POST\\', \\'PUT\\', \\'DELETE\\'], credentials: true }));`. The problem was resolved when a \\'return\\' statement was removed, which likely interfered with the middleware execution flow. The \\'return\\' statement might have prematurely terminated the function, preventing the CORS configuration from being applied correctly. Rebuilding the server and ensuring the correct CORS setup helped in resolving the issue.'}, {'id': '2cef8bde-c6a7-4758-b736-7d2097c0b38a', 'score': 0.351341724, 'question': 'How can I build a second brain app using Recoil to fetch all data when the /dashboard component loads and ensure the UI updates immediately with backend synchronization?', 'answer': 'To build a second brain app using Recoil, you should use an atom to store the state and combine it with a useEffect hook to fetch initial data when the /dashboard component loads. This setup ensures that the UI updates immediately by modifying the atom after every operation such as create, edit, or delete. The useEffect will handle fetching data from the backend, and the atom will maintain the state, allowing for real-time updates in the UI and synchronization with the backend.'}]\n",
      "\u001b[00m\n",
      "\n",
      "\n",
      "\u001b[1m\u001b[95m# Agent:\u001b[00m \u001b[1m\u001b[92mresearcher\u001b[00m\n",
      "\u001b[95m## Final Answer:\u001b[00m \u001b[92m\n",
      "{\n",
      "  \"research\": [\n",
      "    {\n",
      "      \"id\": \"9cef8bde-c6a7-4758-a736-7d2097c0b38a\",\n",
      "      \"score\": 0.728818119,\n",
      "      \"question\": \"I encountered a hydration error in my Next.js project while trying to animate a dropdown menu, and after undoing changes, my styles disappeared. How can I resolve this?\",\n",
      "      \"answer\": \"To resolve the hydration error and styling issues in your Next.js project, first restart the server and inspect the styles using the browser's inspect element tool to ensure that Tailwind CSS is being loaded correctly. If the styles are showing but not applied, it might indicate a configuration issue with Tailwind CSS. Check the Tailwind CSS documentation to ensure it is set up correctly in your project. This may involve verifying your Tailwind configuration file and ensuring that the necessary classes are being generated and applied.\"\n",
      "    }\n",
      "  ]\n",
      "}\u001b[00m\n",
      "\n",
      "\n",
      "\u001b[1m\u001b[95m# Agent:\u001b[00m \u001b[1m\u001b[92mwriter\u001b[00m\n",
      "\u001b[95m## Task:\u001b[00m \u001b[92mTo write content providing the solution to the query : I was having issues in my NEXTJS project, as I tried to animate the dropdown menu, I got a hydration error., given the research done by researcher\u001b[00m\n",
      "\n",
      "\n",
      "\u001b[1m\u001b[95m# Agent:\u001b[00m \u001b[1m\u001b[92mwriter\u001b[00m\n",
      "\u001b[95m## Final Answer:\u001b[00m \u001b[92m\n",
      "{\n",
      "  \"id\": \"9cef8bde-c6a7-4758-a736-7d2097c0b38a\",\n",
      "  \"content\": \"To resolve the hydration error you are encountering in your Next.js project while trying to animate the dropdown menu, follow these steps: \\n\\n1. **Restart Your Server**: Sometimes, simply restarting the Next.js server can resolve unexpected issues.\\n2. **Inspect Styles**: Use the browser's inspect element tool to verify that your styles (e.g., Tailwind CSS) are being loaded correctly. This can help you identify if the necessary CSS is being applied properly.\\n3. **Check Tailwind CSS Configuration**: If the styles are present in the inspection tab but not applied, it may indicate a configuration issue with Tailwind CSS. Review the Tailwind CSS documentation to ensure your setup is correct. This often involves:\\n   - Verifying your `tailwind.config.js` file for correct configuration.\\n   - Ensuring that your Tailwind classes are being generated and correctly applied to the elements. \\n\\nBy following these steps, you should be able to identify and resolve the hydration error as well as any related styling issues.\"\n",
      "}\u001b[00m\n",
      "\n",
      "\n",
      "\u001b[1m\u001b[95m# Agent:\u001b[00m \u001b[1m\u001b[92meditor\u001b[00m\n",
      "\u001b[95m## Task:\u001b[00m \u001b[92mTo edit and give the status of work and final output as a recommendation to the student, if any content given by writer\u001b[00m\n",
      "\n",
      "\n",
      "\u001b[1m\u001b[95m# Agent:\u001b[00m \u001b[1m\u001b[92meditor\u001b[00m\n",
      "\u001b[95m## Final Answer:\u001b[00m \u001b[92m\n",
      "{\n",
      "  \"status\": 200,\n",
      "  \"relevance\": true,\n",
      "  \"solution\": \"To resolve the hydration error you are encountering in your Next.js project while trying to animate the dropdown menu, follow these steps: \\n\\n1. **Restart Your Server**: Sometimes, simply restarting the Next.js server can resolve unexpected issues.\\n2. **Inspect Styles**: Use the browser's inspect element tool to verify that your styles (e.g., Tailwind CSS) are being loaded correctly. This can help you identify if the necessary CSS is being applied properly.\\n3. **Check Tailwind CSS Configuration**: If the styles are present in the inspection tab but not applied, it may indicate a configuration issue with Tailwind CSS. Review the Tailwind CSS documentation to ensure your setup is correct. This often involves:\\n   - Verifying your `tailwind.config.js` file for correct configuration.\\n   - Ensuring that your Tailwind classes are being generated and correctly applied to the elements. \\n\\nBy following these steps, you should be able to identify and resolve the hydration error as well as any related styling issues.\",\n",
      "  \"source\": \"9cef8bde-c6a7-4758-a736-7d2097c0b38a\"\n",
      "}\u001b[00m\n",
      "\n",
      "\n"
     ]
    },
    {
     "data": {
      "text/plain": [
       "{'status': 200,\n",
       " 'relevance': True,\n",
       " 'solution': \"To resolve the hydration error you are encountering in your Next.js project while trying to animate the dropdown menu, follow these steps: \\n\\n1. **Restart Your Server**: Sometimes, simply restarting the Next.js server can resolve unexpected issues.\\n2. **Inspect Styles**: Use the browser's inspect element tool to verify that your styles (e.g., Tailwind CSS) are being loaded correctly. This can help you identify if the necessary CSS is being applied properly.\\n3. **Check Tailwind CSS Configuration**: If the styles are present in the inspection tab but not applied, it may indicate a configuration issue with Tailwind CSS. Review the Tailwind CSS documentation to ensure your setup is correct. This often involves:\\n   - Verifying your `tailwind.config.js` file for correct configuration.\\n   - Ensuring that your Tailwind classes are being generated and correctly applied to the elements. \\n\\nBy following these steps, you should be able to identify and resolve the hydration error as well as any related styling issues.\",\n",
       " 'source': '9cef8bde-c6a7-4758-a736-7d2097c0b38a'}"
      ]
     },
     "execution_count": 76,
     "metadata": {},
     "output_type": "execute_result"
    }
   ],
   "source": [
    "query = \"I was having issues in my NEXTJS project, as I tried to animate the dropdown menu, I got a hydration error.\"\n",
    "result = crew.kickoff(inputs={\"query\": query})\n",
    "answer = json.loads(result.raw)\n",
    "answer"
   ]
  },
  {
   "cell_type": "code",
   "execution_count": 77,
   "metadata": {},
   "outputs": [
    {
     "name": "stdout",
     "output_type": "stream",
     "text": [
      "\u001b[1m\u001b[95m# Agent:\u001b[00m \u001b[1m\u001b[92mresearcher\u001b[00m\n",
      "\u001b[95m## Task:\u001b[00m \u001b[92mTo research and find the most relevant documents and references to the given query : I encountered an issue with CORS in my application, and it was resolved by removing a 'return' statement. Why did this happen?\u001b[00m\n",
      "\n",
      "\n",
      "\u001b[1m\u001b[95m# Agent:\u001b[00m \u001b[1m\u001b[92mresearcher\u001b[00m\n",
      "\u001b[95m## Using tool:\u001b[00m \u001b[92manswer_query_qa\u001b[00m\n",
      "\u001b[95m## Tool Input:\u001b[00m \u001b[92m\n",
      "\"{\\\"query\\\": \\\"I encountered an issue with CORS in my application, and it was resolved by removing a 'return' statement. Why did this happen?\\\"}\"\u001b[00m\n",
      "\u001b[95m## Tool Output:\u001b[00m \u001b[92m\n",
      "\n",
      "    \n",
      "\n",
      " User Query : I encountered an issue with CORS in my application, and it was resolved by removing a 'return' statement. Why did this happen?\n",
      "    \n",
      "\n",
      " Documents : [{'id': '2cef8bde-c6a7-4758-a836-7d2097c0b38a', 'score': 0.828187525, 'question': \"I encountered an issue with CORS in my application, and it was resolved by removing a 'return' statement. Can someone explain why this happened?\", 'answer': 'The issue with CORS was resolved by adjusting the middleware configuration. Initially, there was a suggestion to use `app.use(cors())` with an empty string, which was corrected by adding `origin: *` to allow all origins. Further advice was given to specify the frontend origin using `app.use(cors({ origin: process.env.FRONTEND_URL || \"http://localhost:5173\", methods: [\\'GET\\', \\'POST\\', \\'PUT\\', \\'DELETE\\'], credentials: true }));`. The problem was resolved when a \\'return\\' statement was removed, which likely interfered with the middleware execution flow. The \\'return\\' statement might have prematurely terminated the function, preventing the CORS configuration from being applied correctly. Rebuilding the server and ensuring the correct CORS setup helped in resolving the issue.'}, {'id': '9cef8bde-c6a7-4758-a736-7d2097c0b38a', 'score': 0.371505439, 'question': 'I encountered a hydration error in my Next.js project while trying to animate a dropdown menu, and after undoing changes, my styles disappeared. How can I resolve this?', 'answer': \"To resolve the hydration error and styling issues in your Next.js project, first restart the server and inspect the styles using the browser's inspect element tool to ensure that Tailwind CSS is being loaded correctly. If the styles are showing but not applied, it might indicate a configuration issue with Tailwind CSS. Check the Tailwind CSS documentation to ensure it is set up correctly in your project. This may involve verifying your Tailwind configuration file and ensuring that the necessary classes are being generated and applied.\"}, {'id': '2cef8bde-c6a7-4758-a736-7d2097c0b38a', 'score': 0.320587635, 'question': \"I am getting an error while executing the code for the Excalidraw Project using 'pnpm run dev'. Can someone help me solve this error?\", 'answer': 'The issue was resolved by checking the configuration of the http-server in the package.json file and ensuring the use of the latest version of Node.js. The teaching assistants suggested configuring the http-backend app and updating Node.js, which helped in resolving the error.'}, {'id': '2cef8bde-c6a7-4758-b736-7d2097c0b38a', 'score': 0.210508868, 'question': 'How can I build a second brain app using Recoil to fetch all data when the /dashboard component loads and ensure the UI updates immediately with backend synchronization?', 'answer': 'To build a second brain app using Recoil, you should use an atom to store the state and combine it with a useEffect hook to fetch initial data when the /dashboard component loads. This setup ensures that the UI updates immediately by modifying the atom after every operation such as create, edit, or delete. The useEffect will handle fetching data from the backend, and the atom will maintain the state, allowing for real-time updates in the UI and synchronization with the backend.'}]\n",
      "\u001b[00m\n",
      "\n",
      "\n",
      "\u001b[1m\u001b[95m# Agent:\u001b[00m \u001b[1m\u001b[92mresearcher\u001b[00m\n",
      "\u001b[95m## Final Answer:\u001b[00m \u001b[92m\n",
      "{\n",
      "  \"research\": [\n",
      "    {\n",
      "      \"id\": \"2cef8bde-c6a7-4758-a836-7d2097c0b38a\",\n",
      "      \"score\": 0.828187525,\n",
      "      \"question\": \"I encountered an issue with CORS in my application, and it was resolved by removing a 'return' statement. Can someone explain why this happened?\",\n",
      "      \"answer\": \"The issue with CORS was resolved by adjusting the middleware configuration. Initially, there was a suggestion to use `app.use(cors())` with an empty string, which was corrected by adding `origin: *` to allow all origins. Further advice was given to specify the frontend origin using `app.use(cors({ origin: process.env.FRONTEND_URL || \\\"http://localhost:5173\\\", methods: ['GET', 'POST', 'PUT', 'DELETE'], credentials: true }));`. The problem was resolved when a 'return' statement was removed, which likely interfered with the middleware execution flow. The 'return' statement might have prematurely terminated the function, preventing the CORS configuration from being applied correctly. Rebuilding the server and ensuring the correct CORS setup helped in resolving the issue.\"\n",
      "    },\n",
      "    {\n",
      "      \"id\": \"9cef8bde-c6a7-4758-a736-7d2097c0b38a\",\n",
      "      \"score\": 0.371505439,\n",
      "      \"question\": \"I encountered a hydration error in my Next.js project while trying to animate a dropdown menu, and after undoing changes, my styles disappeared. How can I resolve this?\",\n",
      "      \"answer\": \"To resolve the hydration error and styling issues in your Next.js project, first restart the server and inspect the styles using the browser's inspect element tool to ensure that Tailwind CSS is being loaded correctly. If the styles are showing but not applied, it might indicate a configuration issue with Tailwind CSS. Check the Tailwind CSS documentation to ensure it is set up correctly in your project. This may involve verifying your Tailwind configuration file and ensuring that the necessary classes are being generated and applied.\"\n",
      "    },\n",
      "    {\n",
      "      \"id\": \"2cef8bde-c6a7-4758-a736-7d2097c0b38a\",\n",
      "      \"score\": 0.320587635,\n",
      "      \"question\": \"I am getting an error while executing the code for the Excalidraw Project using 'pnpm run dev'. Can someone help me solve this error?\",\n",
      "      \"answer\": \"The issue was resolved by checking the configuration of the http-server in the package.json file and ensuring the use of the latest version of Node.js. The teaching assistants suggested configuring the http-backend app and updating Node.js, which helped in resolving the error.\"\n",
      "    },\n",
      "    {\n",
      "      \"id\": \"2cef8bde-c6a7-4758-b736-7d2097c0b38a\",\n",
      "      \"score\": 0.210508868,\n",
      "      \"question\": \"How can I build a second brain app using Recoil to fetch all data when the /dashboard component loads and ensure the UI updates immediately with backend synchronization?\",\n",
      "      \"answer\": \"To build a second brain app using Recoil, you should use an atom to store the state and combine it with a useEffect hook to fetch initial data when the /dashboard component loads. This setup ensures that the UI updates immediately by modifying the atom after every operation such as create, edit, or delete. The useEffect will handle fetching data from the backend, and the atom will maintain the state, allowing for real-time updates in the UI and synchronization with the backend.\"\n",
      "    }\n",
      "  ]\n",
      "}\u001b[00m\n",
      "\n",
      "\n",
      "\u001b[1m\u001b[95m# Agent:\u001b[00m \u001b[1m\u001b[92mwriter\u001b[00m\n",
      "\u001b[95m## Task:\u001b[00m \u001b[92mTo write content providing the solution to the query : I encountered an issue with CORS in my application, and it was resolved by removing a 'return' statement. Why did this happen?, given the research done by researcher\u001b[00m\n",
      "\n",
      "\n",
      "\u001b[1m\u001b[95m# Agent:\u001b[00m \u001b[1m\u001b[92mwriter\u001b[00m\n",
      "\u001b[95m## Final Answer:\u001b[00m \u001b[92m\n",
      "{\n",
      "  \"id\": \"2cef8bde-c6a7-4758-a836-7d2097c0b38a\",\n",
      "  \"content\": \"The issue with CORS was resolved by adjusting the middleware configuration. Initially, there was a suggestion to use `app.use(cors())` with an empty string, which was corrected by adding `origin: *` to allow all origins. Further advice was given to specify the frontend origin using `app.use(cors({ origin: process.env.FRONTEND_URL || \\\"http://localhost:5173\\\", methods: ['GET', 'POST', 'PUT', 'DELETE'], credentials: true }));`. The problem was resolved when a 'return' statement was removed, which likely interfered with the middleware execution flow. The 'return' statement might have prematurely terminated the function, preventing the CORS configuration from being applied correctly. Rebuilding the server and ensuring the correct CORS setup helped in resolving the issue.\"\n",
      "}\u001b[00m\n",
      "\n",
      "\n",
      "\u001b[1m\u001b[95m# Agent:\u001b[00m \u001b[1m\u001b[92meditor\u001b[00m\n",
      "\u001b[95m## Task:\u001b[00m \u001b[92mTo edit and give the status of work and final output as a recommendation to the student, if any content given by writer\u001b[00m\n",
      "\n",
      "\n",
      "\u001b[1m\u001b[95m# Agent:\u001b[00m \u001b[1m\u001b[92meditor\u001b[00m\n",
      "\u001b[95m## Final Answer:\u001b[00m \u001b[92m\n",
      "{\n",
      "  \"status\": 200,\n",
      "  \"relevance\": true,\n",
      "  \"solution\": \"This query may have been solved before. The issue with CORS was resolved by adjusting the middleware configuration. Initially, there was a suggestion to use `app.use(cors())` with an empty string, which was corrected by adding `origin: *` to allow all origins. Further advice was given to specify the frontend origin using `app.use(cors({ origin: process.env.FRONTEND_URL || \\\"http://localhost:5173\\\", methods: ['GET', 'POST', 'PUT', 'DELETE'], credentials: true }));`. The problem was resolved when a 'return' statement was removed, which likely interfered with the middleware execution flow. The 'return' statement might have prematurely terminated the function, preventing the CORS configuration from being applied correctly. Rebuilding the server and ensuring the correct CORS setup helped in resolving the issue.\",\n",
      "  \"source\": \"2cef8bde-c6a7-4758-a836-7d2097c0b38a\"\n",
      "}\u001b[00m\n",
      "\n",
      "\n"
     ]
    },
    {
     "data": {
      "text/plain": [
       "{'status': 200,\n",
       " 'relevance': True,\n",
       " 'solution': 'This query may have been solved before. The issue with CORS was resolved by adjusting the middleware configuration. Initially, there was a suggestion to use `app.use(cors())` with an empty string, which was corrected by adding `origin: *` to allow all origins. Further advice was given to specify the frontend origin using `app.use(cors({ origin: process.env.FRONTEND_URL || \"http://localhost:5173\", methods: [\\'GET\\', \\'POST\\', \\'PUT\\', \\'DELETE\\'], credentials: true }));`. The problem was resolved when a \\'return\\' statement was removed, which likely interfered with the middleware execution flow. The \\'return\\' statement might have prematurely terminated the function, preventing the CORS configuration from being applied correctly. Rebuilding the server and ensuring the correct CORS setup helped in resolving the issue.',\n",
       " 'source': '2cef8bde-c6a7-4758-a836-7d2097c0b38a'}"
      ]
     },
     "execution_count": 77,
     "metadata": {},
     "output_type": "execute_result"
    }
   ],
   "source": [
    "query = \"I encountered an issue with CORS in my application, and it was resolved by removing a 'return' statement. Why did this happen?\"\n",
    "result = crew.kickoff(inputs={\"query\": query})\n",
    "answer = json.loads(result.raw)\n",
    "answer"
   ]
  },
  {
   "cell_type": "code",
   "execution_count": 95,
   "metadata": {},
   "outputs": [
    {
     "name": "stdout",
     "output_type": "stream",
     "text": [
      "\u001b[1m\u001b[95m# Agent:\u001b[00m \u001b[1m\u001b[92mresearcher\u001b[00m\n",
      "\u001b[95m## Task:\u001b[00m \u001b[92mTo research and find the most relevant documents and references to the given query : How do JWT tokens work?\u001b[00m\n",
      "\n",
      "\n",
      "\u001b[1m\u001b[95m# Agent:\u001b[00m \u001b[1m\u001b[92mresearcher\u001b[00m\n",
      "\u001b[95m## Using tool:\u001b[00m \u001b[92manswer_query_qa\u001b[00m\n",
      "\u001b[95m## Tool Input:\u001b[00m \u001b[92m\n",
      "\"{\\\"query\\\": \\\"How do JWT tokens work?\\\"}\"\u001b[00m\n",
      "\u001b[95m## Tool Output:\u001b[00m \u001b[92m\n",
      "[{'id': '2cef8bde-c6a7-4758-a836-7d2097c0b38a', 'score': 0.223142341, 'question': \"I encountered an issue with CORS in my application, and it was resolved by removing a 'return' statement. Can someone explain why this happened?\", 'answer': 'The issue with CORS was resolved by adjusting the middleware configuration. Initially, there was a suggestion to use `app.use(cors())` with an empty string, which was corrected by adding `origin: *` to allow all origins. Further advice was given to specify the frontend origin using `app.use(cors({ origin: process.env.FRONTEND_URL || \"http://localhost:5173\", methods: [\\'GET\\', \\'POST\\', \\'PUT\\', \\'DELETE\\'], credentials: true }));`. The problem was resolved when a \\'return\\' statement was removed, which likely interfered with the middleware execution flow. The \\'return\\' statement might have prematurely terminated the function, preventing the CORS configuration from being applied correctly. Rebuilding the server and ensuring the correct CORS setup helped in resolving the issue.'}, {'id': '2cef8bde-c6a7-4758-b736-7d2097c0b38a', 'score': 0.204461217, 'question': 'How can I build a second brain app using Recoil to fetch all data when the /dashboard component loads and ensure the UI updates immediately with backend synchronization?', 'answer': 'To build a second brain app using Recoil, you should use an atom to store the state and combine it with a useEffect hook to fetch initial data when the /dashboard component loads. This setup ensures that the UI updates immediately by modifying the atom after every operation such as create, edit, or delete. The useEffect will handle fetching data from the backend, and the atom will maintain the state, allowing for real-time updates in the UI and synchronization with the backend.'}, {'id': '9cef8bde-c6a7-4758-a736-7d2097c0b38a', 'score': 0.148641333, 'question': 'I encountered a hydration error in my Next.js project while trying to animate a dropdown menu, and after undoing changes, my styles disappeared. How can I resolve this?', 'answer': \"To resolve the hydration error and styling issues in your Next.js project, first restart the server and inspect the styles using the browser's inspect element tool to ensure that Tailwind CSS is being loaded correctly. If the styles are showing but not applied, it might indicate a configuration issue with Tailwind CSS. Check the Tailwind CSS documentation to ensure it is set up correctly in your project. This may involve verifying your Tailwind configuration file and ensuring that the necessary classes are being generated and applied.\"}, {'id': '2cef8bde-c6a7-4758-a736-7d2097c0b38a', 'score': 0.0919193923, 'question': \"I am getting an error while executing the code for the Excalidraw Project using 'pnpm run dev'. Can someone help me solve this error?\", 'answer': 'The issue was resolved by checking the configuration of the http-server in the package.json file and ensuring the use of the latest version of Node.js. The teaching assistants suggested configuring the http-backend app and updating Node.js, which helped in resolving the error.'}]\u001b[00m\n",
      "\n",
      "\n",
      "\u001b[1m\u001b[95m# Agent:\u001b[00m \u001b[1m\u001b[92mresearcher\u001b[00m\n",
      "\u001b[95m## Final Answer:\u001b[00m \u001b[92m\n",
      "{\n",
      "  \"research\": []\n",
      "}\u001b[00m\n",
      "\n",
      "\n",
      "\u001b[1m\u001b[95m# Agent:\u001b[00m \u001b[1m\u001b[92mwriter\u001b[00m\n",
      "\u001b[95m## Task:\u001b[00m \u001b[92mTo write content providing the solution to the query : How do JWT tokens work?, given the research done by researcher\u001b[00m\n",
      "\n",
      "\n",
      "\u001b[1m\u001b[95m# Agent:\u001b[00m \u001b[1m\u001b[92mwriter\u001b[00m\n",
      "\u001b[95m## Final Answer:\u001b[00m \u001b[92m\n",
      "{\n",
      "  \"research\": []\n",
      "}\u001b[00m\n",
      "\n",
      "\n",
      "\u001b[1m\u001b[95m# Agent:\u001b[00m \u001b[1m\u001b[92meditor\u001b[00m\n",
      "\u001b[95m## Task:\u001b[00m \u001b[92mTo edit and give the status of work and final output as a recommendation to the student, if any content given by writer\u001b[00m\n",
      "\n",
      "\n",
      "\u001b[1m\u001b[95m# Agent:\u001b[00m \u001b[1m\u001b[92meditor\u001b[00m\n",
      "\u001b[95m## Final Answer:\u001b[00m \u001b[92m\n",
      "{\n",
      "  \"status\": 404,\n",
      "  \"relevance\": false,\n",
      "  \"solution\": \"NA\",\n",
      "  \"source\": \"NA\"\n",
      "}\u001b[00m\n",
      "\n",
      "\n"
     ]
    },
    {
     "data": {
      "text/plain": [
       "{'status': 404, 'relevance': False, 'solution': 'NA', 'source': 'NA'}"
      ]
     },
     "execution_count": 95,
     "metadata": {},
     "output_type": "execute_result"
    }
   ],
   "source": [
    "query = \"How do JWT tokens work?\"\n",
    "result = crew.kickoff(inputs={\"query\": query})\n",
    "answer = json.loads(result.raw)\n",
    "answer"
   ]
  },
  {
   "cell_type": "code",
   "execution_count": 96,
   "metadata": {},
   "outputs": [
    {
     "name": "stdout",
     "output_type": "stream",
     "text": [
      "\u001b[1m\u001b[95m# Agent:\u001b[00m \u001b[1m\u001b[92mresearcher\u001b[00m\n",
      "\u001b[95m## Task:\u001b[00m \u001b[92mTo research and find the most relevant documents and references to the given query : ughhh I am geting 'pnpm run dev' error in my project, somebody help??\u001b[00m\n",
      "\n",
      "\n",
      "\u001b[1m\u001b[95m# Agent:\u001b[00m \u001b[1m\u001b[92mresearcher\u001b[00m\n",
      "\u001b[95m## Using tool:\u001b[00m \u001b[92manswer_query_qa\u001b[00m\n",
      "\u001b[95m## Tool Input:\u001b[00m \u001b[92m\n",
      "\"{\\\"query\\\": \\\"ughhh I am geting 'pnpm run dev' error in my project, somebody help??\\\"}\"\u001b[00m\n",
      "\u001b[95m## Tool Output:\u001b[00m \u001b[92m\n",
      "[{'id': '2cef8bde-c6a7-4758-a736-7d2097c0b38a', 'score': 0.600647688, 'question': \"I am getting an error while executing the code for the Excalidraw Project using 'pnpm run dev'. Can someone help me solve this error?\", 'answer': 'The issue was resolved by checking the configuration of the http-server in the package.json file and ensuring the use of the latest version of Node.js. The teaching assistants suggested configuring the http-backend app and updating Node.js, which helped in resolving the error.'}, {'id': '9cef8bde-c6a7-4758-a736-7d2097c0b38a', 'score': 0.314720541, 'question': 'I encountered a hydration error in my Next.js project while trying to animate a dropdown menu, and after undoing changes, my styles disappeared. How can I resolve this?', 'answer': \"To resolve the hydration error and styling issues in your Next.js project, first restart the server and inspect the styles using the browser's inspect element tool to ensure that Tailwind CSS is being loaded correctly. If the styles are showing but not applied, it might indicate a configuration issue with Tailwind CSS. Check the Tailwind CSS documentation to ensure it is set up correctly in your project. This may involve verifying your Tailwind configuration file and ensuring that the necessary classes are being generated and applied.\"}, {'id': '2cef8bde-c6a7-4758-a836-7d2097c0b38a', 'score': 0.246425688, 'question': \"I encountered an issue with CORS in my application, and it was resolved by removing a 'return' statement. Can someone explain why this happened?\", 'answer': 'The issue with CORS was resolved by adjusting the middleware configuration. Initially, there was a suggestion to use `app.use(cors())` with an empty string, which was corrected by adding `origin: *` to allow all origins. Further advice was given to specify the frontend origin using `app.use(cors({ origin: process.env.FRONTEND_URL || \"http://localhost:5173\", methods: [\\'GET\\', \\'POST\\', \\'PUT\\', \\'DELETE\\'], credentials: true }));`. The problem was resolved when a \\'return\\' statement was removed, which likely interfered with the middleware execution flow. The \\'return\\' statement might have prematurely terminated the function, preventing the CORS configuration from being applied correctly. Rebuilding the server and ensuring the correct CORS setup helped in resolving the issue.'}, {'id': '2cef8bde-c6a7-4758-b736-7d2097c0b38a', 'score': 0.173436746, 'question': 'How can I build a second brain app using Recoil to fetch all data when the /dashboard component loads and ensure the UI updates immediately with backend synchronization?', 'answer': 'To build a second brain app using Recoil, you should use an atom to store the state and combine it with a useEffect hook to fetch initial data when the /dashboard component loads. This setup ensures that the UI updates immediately by modifying the atom after every operation such as create, edit, or delete. The useEffect will handle fetching data from the backend, and the atom will maintain the state, allowing for real-time updates in the UI and synchronization with the backend.'}]\u001b[00m\n",
      "\n",
      "\n",
      "\u001b[1m\u001b[95m# Agent:\u001b[00m \u001b[1m\u001b[92mresearcher\u001b[00m\n",
      "\u001b[95m## Final Answer:\u001b[00m \u001b[92m\n",
      "{\n",
      "  \"research\": [\n",
      "    {\n",
      "      \"id\": \"2cef8bde-c6a7-4758-a736-7d2097c0b38a\",\n",
      "      \"score\": 0.600647688,\n",
      "      \"question\": \"I am getting an error while executing the code for the Excalidraw Project using 'pnpm run dev'. Can someone help me solve this error?\",\n",
      "      \"answer\": \"The issue was resolved by checking the configuration of the http-server in the package.json file and ensuring the use of the latest version of Node.js. The teaching assistants suggested configuring the http-backend app and updating Node.js, which helped in resolving the error.\"\n",
      "    },\n",
      "    {\n",
      "      \"id\": \"9cef8bde-c6a7-4758-a736-7d2097c0b38a\",\n",
      "      \"score\": 0.314720541,\n",
      "      \"question\": \"I encountered a hydration error in my Next.js project while trying to animate a dropdown menu, and after undoing changes, my styles disappeared. How can I resolve this?\",\n",
      "      \"answer\": \"To resolve the hydration error and styling issues in your Next.js project, first restart the server and inspect the styles using the browser's inspect element tool to ensure that Tailwind CSS is being loaded correctly. If the styles are showing but not applied, it might indicate a configuration issue with Tailwind CSS. Check the Tailwind CSS documentation to ensure it is set up correctly in your project. This may involve verifying your Tailwind configuration file and ensuring that the necessary classes are being generated and applied.\"\n",
      "    },\n",
      "    {\n",
      "      \"id\": \"2cef8bde-c6a7-4758-a836-7d2097c0b38a\",\n",
      "      \"score\": 0.246425688,\n",
      "      \"question\": \"I encountered an issue with CORS in my application, and it was resolved by removing a 'return' statement. Can someone explain why this happened?\",\n",
      "      \"answer\": \"The issue with CORS was resolved by adjusting the middleware configuration. Initially, there was a suggestion to use `app.use(cors())` with an empty string, which was corrected by adding `origin: *` to allow all origins. Further advice was given to specify the frontend origin using `app.use(cors({ origin: process.env.FRONTEND_URL || \\\"http://localhost:5173\\\", methods: ['GET', 'POST', 'PUT', 'DELETE'], credentials: true }));`. The problem was resolved when a 'return' statement was removed, which likely interfered with the middleware execution flow. The 'return' statement might have prematurely terminated the function, preventing the CORS configuration from being applied correctly. Rebuilding the server and ensuring the correct CORS setup helped in resolving the issue.\"\n",
      "    },\n",
      "    {\n",
      "      \"id\": \"2cef8bde-c6a7-4758-b736-7d2097c0b38a\",\n",
      "      \"score\": 0.173436746,\n",
      "      \"question\": \"How can I build a second brain app using Recoil to fetch all data when the /dashboard component loads and ensure the UI updates immediately with backend synchronization?\",\n",
      "      \"answer\": \"To build a second brain app using Recoil, you should use an atom to store the state and combine it with a useEffect hook to fetch initial data when the /dashboard component loads. This setup ensures that the UI updates immediately by modifying the atom after every operation such as create, edit, or delete. The useEffect will handle fetching data from the backend, and the atom will maintain the state, allowing for real-time updates in the UI and synchronization with the backend.\"\n",
      "    }\n",
      "  ]\n",
      "}\u001b[00m\n",
      "\n",
      "\n",
      "\u001b[1m\u001b[95m# Agent:\u001b[00m \u001b[1m\u001b[92mwriter\u001b[00m\n",
      "\u001b[95m## Task:\u001b[00m \u001b[92mTo write content providing the solution to the query : ughhh I am geting 'pnpm run dev' error in my project, somebody help??, given the research done by researcher\u001b[00m\n",
      "\n",
      "\n",
      "\u001b[1m\u001b[95m# Agent:\u001b[00m \u001b[1m\u001b[92mwriter\u001b[00m\n",
      "\u001b[95m## Final Answer:\u001b[00m \u001b[92m\n",
      "{\n",
      "  \"id\": \"2cef8bde-c6a7-4758-a736-7d2097c0b38a\",\n",
      "  \"content\": \"The error encountered while using 'pnpm run dev' in your project appears related to the configuration of the http-server within your package.json file. To resolve this error, it is suggested to check and verify the configuration settings there. Additionally, it is essential to ensure that you are using the latest version of Node.js, as outdated versions may cause compatibility issues. The teaching assistants recommend configuring the http-backend application and updating Node.js, which was effective in resolving the error. After making these adjustments, you should be able to run your development server without issues.\"\n",
      "}\u001b[00m\n",
      "\n",
      "\n",
      "\u001b[1m\u001b[95m# Agent:\u001b[00m \u001b[1m\u001b[92meditor\u001b[00m\n",
      "\u001b[95m## Task:\u001b[00m \u001b[92mTo edit and give the status of work and final output as a recommendation to the student, if any content given by writer\u001b[00m\n",
      "\n",
      "\n",
      "\u001b[1m\u001b[95m# Agent:\u001b[00m \u001b[1m\u001b[92meditor\u001b[00m\n",
      "\u001b[95m## Final Answer:\u001b[00m \u001b[92m\n",
      "{\n",
      "  \"status\": 200,\n",
      "  \"relevance\": true,\n",
      "  \"solution\": \"The error encountered while using 'pnpm run dev' in your project appears related to the configuration of the http-server within your package.json file. To resolve this error, it is suggested to check and verify the configuration settings there. Additionally, it is essential to ensure that you are using the latest version of Node.js, as outdated versions may cause compatibility issues. The teaching assistants recommend configuring the http-backend application and updating Node.js, which was effective in resolving the error. After making these adjustments, you should be able to run your development server without issues.\",\n",
      "  \"source\": \"2cef8bde-c6a7-4758-a736-7d2097c0b38a\"\n",
      "}\u001b[00m\n",
      "\n",
      "\n"
     ]
    },
    {
     "data": {
      "text/plain": [
       "{'status': 200,\n",
       " 'relevance': True,\n",
       " 'solution': \"The error encountered while using 'pnpm run dev' in your project appears related to the configuration of the http-server within your package.json file. To resolve this error, it is suggested to check and verify the configuration settings there. Additionally, it is essential to ensure that you are using the latest version of Node.js, as outdated versions may cause compatibility issues. The teaching assistants recommend configuring the http-backend application and updating Node.js, which was effective in resolving the error. After making these adjustments, you should be able to run your development server without issues.\",\n",
       " 'source': '2cef8bde-c6a7-4758-a736-7d2097c0b38a'}"
      ]
     },
     "execution_count": 96,
     "metadata": {},
     "output_type": "execute_result"
    }
   ],
   "source": [
    "query = \"ughhh I am geting 'pnpm run dev' error in my project, somebody help??\"\n",
    "result = crew.kickoff(inputs={\"query\": query})\n",
    "answer = json.loads(result.raw)\n",
    "answer"
   ]
  },
  {
   "cell_type": "code",
   "execution_count": 97,
   "metadata": {},
   "outputs": [
    {
     "name": "stdout",
     "output_type": "stream",
     "text": [
      "\u001b[1m\u001b[95m# Agent:\u001b[00m \u001b[1m\u001b[92mresearcher\u001b[00m\n",
      "\u001b[95m## Task:\u001b[00m \u001b[92mTo research and find the most relevant documents and references to the given query : yaar mujhe app banana hai where dashboard loads and UI updates happen immediately, backend sync ke saath\u001b[00m\n",
      "\n",
      "\n",
      "\u001b[1m\u001b[95m# Agent:\u001b[00m \u001b[1m\u001b[92mresearcher\u001b[00m\n",
      "\u001b[95m## Using tool:\u001b[00m \u001b[92manswer_query_qa\u001b[00m\n",
      "\u001b[95m## Tool Input:\u001b[00m \u001b[92m\n",
      "\"{\\\"query\\\": \\\"yaar mujhe app banana hai where dashboard loads and UI updates happen immediately, backend sync ke saath\\\"}\"\u001b[00m\n",
      "\u001b[95m## Tool Output:\u001b[00m \u001b[92m\n",
      "[{'id': '2cef8bde-c6a7-4758-b736-7d2097c0b38a', 'score': 0.49639377, 'question': 'How can I build a second brain app using Recoil to fetch all data when the /dashboard component loads and ensure the UI updates immediately with backend synchronization?', 'answer': 'To build a second brain app using Recoil, you should use an atom to store the state and combine it with a useEffect hook to fetch initial data when the /dashboard component loads. This setup ensures that the UI updates immediately by modifying the atom after every operation such as create, edit, or delete. The useEffect will handle fetching data from the backend, and the atom will maintain the state, allowing for real-time updates in the UI and synchronization with the backend.'}, {'id': '9cef8bde-c6a7-4758-a736-7d2097c0b38a', 'score': 0.27039215, 'question': 'I encountered a hydration error in my Next.js project while trying to animate a dropdown menu, and after undoing changes, my styles disappeared. How can I resolve this?', 'answer': \"To resolve the hydration error and styling issues in your Next.js project, first restart the server and inspect the styles using the browser's inspect element tool to ensure that Tailwind CSS is being loaded correctly. If the styles are showing but not applied, it might indicate a configuration issue with Tailwind CSS. Check the Tailwind CSS documentation to ensure it is set up correctly in your project. This may involve verifying your Tailwind configuration file and ensuring that the necessary classes are being generated and applied.\"}, {'id': '2cef8bde-c6a7-4758-a836-7d2097c0b38a', 'score': 0.229478613, 'question': \"I encountered an issue with CORS in my application, and it was resolved by removing a 'return' statement. Can someone explain why this happened?\", 'answer': 'The issue with CORS was resolved by adjusting the middleware configuration. Initially, there was a suggestion to use `app.use(cors())` with an empty string, which was corrected by adding `origin: *` to allow all origins. Further advice was given to specify the frontend origin using `app.use(cors({ origin: process.env.FRONTEND_URL || \"http://localhost:5173\", methods: [\\'GET\\', \\'POST\\', \\'PUT\\', \\'DELETE\\'], credentials: true }));`. The problem was resolved when a \\'return\\' statement was removed, which likely interfered with the middleware execution flow. The \\'return\\' statement might have prematurely terminated the function, preventing the CORS configuration from being applied correctly. Rebuilding the server and ensuring the correct CORS setup helped in resolving the issue.'}, {'id': '2cef8bde-c6a7-4758-a736-7d2097c0b38a', 'score': 0.214843452, 'question': \"I am getting an error while executing the code for the Excalidraw Project using 'pnpm run dev'. Can someone help me solve this error?\", 'answer': 'The issue was resolved by checking the configuration of the http-server in the package.json file and ensuring the use of the latest version of Node.js. The teaching assistants suggested configuring the http-backend app and updating Node.js, which helped in resolving the error.'}]\n",
      "\n",
      "\n",
      "You ONLY have access to the following tools, and should NEVER make up tools that are not listed here:\n",
      "\n",
      "Tool Name: answer_query_qa\n",
      "Tool Arguments: {'query': {'description': None, 'type': 'Any'}}\n",
      "Tool Description: Find relevant documents for a given query and answer the query using the relevant documents.\n",
      "\n",
      "Args:\n",
      "- query (str): The search query will be in string format which will be passed straight to the LLM to find the relevant documents.\n",
      "\n",
      "Returns:\n",
      "    The relevant documents from the database, given the query\n",
      "\n",
      "IMPORTANT: Use the following format in your response:\n",
      "\n",
      "```\n",
      "Thought: you should always think about what to do\n",
      "Action: the action to take, only one name of [answer_query_qa], just the name, exactly as it's written.\n",
      "Action Input: the input to the action, just a simple JSON object, enclosed in curly braces, using \" to wrap keys and values.\n",
      "Observation: the result of the action\n",
      "```\n",
      "\n",
      "Once all necessary information is gathered, return the following format:\n",
      "\n",
      "```\n",
      "Thought: I now know the final answer\n",
      "Final Answer: the final answer to the original input question\n",
      "```\u001b[00m\n",
      "\n",
      "\n",
      "\u001b[1m\u001b[95m# Agent:\u001b[00m \u001b[1m\u001b[92mresearcher\u001b[00m\n",
      "\u001b[95m## Final Answer:\u001b[00m \u001b[92m\n",
      "{\n",
      "  \"research\": [\n",
      "    {\n",
      "      \"id\": \"2cef8bde-c6a7-4758-b736-7d2097c0b38a\",\n",
      "      \"score\": 0.49639377,\n",
      "      \"question\": \"How can I build a second brain app using Recoil to fetch all data when the /dashboard component loads and ensure the UI updates immediately with backend synchronization?\",\n",
      "      \"answer\": \"To build a second brain app using Recoil, you should use an atom to store the state and combine it with a useEffect hook to fetch initial data when the /dashboard component loads. This setup ensures that the UI updates immediately by modifying the atom after every operation such as create, edit, or delete. The useEffect will handle fetching data from the backend, and the atom will maintain the state, allowing for real-time updates in the UI and synchronization with the backend.\"\n",
      "    },\n",
      "    {\n",
      "      \"id\": \"9cef8bde-c6a7-4758-a736-7d2097c0b38a\",\n",
      "      \"score\": 0.27039215,\n",
      "      \"question\": \"I encountered a hydration error in my Next.js project while trying to animate a dropdown menu, and after undoing changes, my styles disappeared. How can I resolve this?\",\n",
      "      \"answer\": \"To resolve the hydration error and styling issues in your Next.js project, first restart the server and inspect the styles using the browser's inspect element tool to ensure that Tailwind CSS is being loaded correctly. If the styles are showing but not applied, it might indicate a configuration issue with Tailwind CSS. Check the Tailwind CSS documentation to ensure it is set up correctly in your project. This may involve verifying your Tailwind configuration file and ensuring that the necessary classes are being generated and applied.\"\n",
      "    },\n",
      "    {\n",
      "      \"id\": \"2cef8bde-c6a7-4758-a836-7d2097c0b38a\",\n",
      "      \"score\": 0.229478613,\n",
      "      \"question\": \"I encountered an issue with CORS in my application, and it was resolved by removing a 'return' statement. Can someone explain why this happened?\",\n",
      "      \"answer\": \"The issue with CORS was resolved by adjusting the middleware configuration. Initially, there was a suggestion to use `app.use(cors())` with an empty string, which was corrected by adding `origin: *` to allow all origins. Further advice was given to specify the frontend origin using `app.use(cors({ origin: process.env.FRONTEND_URL || 'http://localhost:5173', methods: ['GET', 'POST', 'PUT', 'DELETE'], credentials: true }));`. The problem was resolved when a 'return' statement was removed, which likely interfered with the middleware execution flow. The 'return' statement might have prematurely terminated the function, preventing the CORS configuration from being applied correctly. Rebuilding the server and ensuring the correct CORS setup helped in resolving the issue.\"\n",
      "    },\n",
      "    {\n",
      "      \"id\": \"2cef8bde-c6a7-4758-a736-7d2097c0b38a\",\n",
      "      \"score\": 0.214843452,\n",
      "      \"question\": \"I am getting an error while executing the code for the Excalidraw Project using 'pnpm run dev'. Can someone help me solve this error?\",\n",
      "      \"answer\": \"The issue was resolved by checking the configuration of the http-server in the package.json file and ensuring the use of the latest version of Node.js. The teaching assistants suggested configuring the http-backend app and updating Node.js, which helped in resolving the error.\"\n",
      "    }\n",
      "  ]\n",
      "}\u001b[00m\n",
      "\n",
      "\n",
      "\u001b[1m\u001b[95m# Agent:\u001b[00m \u001b[1m\u001b[92mwriter\u001b[00m\n",
      "\u001b[95m## Task:\u001b[00m \u001b[92mTo write content providing the solution to the query : yaar mujhe app banana hai where dashboard loads and UI updates happen immediately, backend sync ke saath, given the research done by researcher\u001b[00m\n",
      "\n",
      "\n",
      "\u001b[1m\u001b[95m# Agent:\u001b[00m \u001b[1m\u001b[92mwriter\u001b[00m\n",
      "\u001b[95m## Final Answer:\u001b[00m \u001b[92m\n",
      "{\n",
      "  \"id\": \"2cef8bde-c6a7-4758-b736-7d2097c0b38a\",\n",
      "  \"content\": \"To build an app where the dashboard loads, and the UI updates immediately with backend synchronization, you can utilize Recoil for state management. Here’s how to proceed: First, set up an atom in Recoil to store the state of your dashboard. Then, leverage the useEffect hook to fetch the initial data when the /dashboard component loads. This combination ensures that any modifications you make—like create, edit, or delete—will immediately update this atom, thus reflecting changes in the UI instantaneously. The useEffect will be responsible for fetching data from your backend, and by maintaining the state within the atom, you will achieve real-time updates and synchronization with the backend effectively.\"\n",
      "}\u001b[00m\n",
      "\n",
      "\n",
      "\u001b[1m\u001b[95m# Agent:\u001b[00m \u001b[1m\u001b[92meditor\u001b[00m\n",
      "\u001b[95m## Task:\u001b[00m \u001b[92mTo edit and give the status of work and final output as a recommendation to the student, if any content given by writer\u001b[00m\n",
      "\n",
      "\n",
      "\u001b[1m\u001b[95m# Agent:\u001b[00m \u001b[1m\u001b[92meditor\u001b[00m\n",
      "\u001b[95m## Final Answer:\u001b[00m \u001b[92m\n",
      "{\n",
      "  \"status\": 200,\n",
      "  \"relevance\": true,\n",
      "  \"solution\": \"To build an app where the dashboard loads, and the UI updates immediately with backend synchronization, you can utilize Recoil for state management. Here’s how to proceed: First, set up an atom in Recoil to store the state of your dashboard. Then, leverage the useEffect hook to fetch the initial data when the /dashboard component loads. This combination ensures that any modifications you make—like create, edit, or delete—will immediately update this atom, thus reflecting changes in the UI instantaneously. The useEffect will be responsible for fetching data from your backend, and by maintaining the state within the atom, you will achieve real-time updates and synchronization with the backend effectively.\",\n",
      "  \"source\": \"2cef8bde-c6a7-4758-b736-7d2097c0b38a\"\n",
      "}\u001b[00m\n",
      "\n",
      "\n"
     ]
    },
    {
     "data": {
      "text/plain": [
       "{'status': 200,\n",
       " 'relevance': True,\n",
       " 'solution': 'To build an app where the dashboard loads, and the UI updates immediately with backend synchronization, you can utilize Recoil for state management. Here’s how to proceed: First, set up an atom in Recoil to store the state of your dashboard. Then, leverage the useEffect hook to fetch the initial data when the /dashboard component loads. This combination ensures that any modifications you make—like create, edit, or delete—will immediately update this atom, thus reflecting changes in the UI instantaneously. The useEffect will be responsible for fetching data from your backend, and by maintaining the state within the atom, you will achieve real-time updates and synchronization with the backend effectively.',\n",
       " 'source': '2cef8bde-c6a7-4758-b736-7d2097c0b38a'}"
      ]
     },
     "execution_count": 97,
     "metadata": {},
     "output_type": "execute_result"
    }
   ],
   "source": [
    "query = \"yaar mujhe app banana hai where dashboard loads and UI updates happen immediately, backend sync ke saath\"\n",
    "result = crew.kickoff(inputs={\"query\": query})\n",
    "answer = json.loads(result.raw)\n",
    "answer"
   ]
  },
  {
   "cell_type": "markdown",
   "metadata": {},
   "source": [
    "With this, we now have an agent which will be answering the core question asked by the user, based on the Q&A knowledge base. This is suppose to work as a FASTAPI endpoint whenever the user creates a new thread, all previous threads can be inspected for the same."
   ]
  }
 ],
 "metadata": {
  "kernelspec": {
   "display_name": "Python 3",
   "language": "python",
   "name": "python3"
  },
  "language_info": {
   "codemirror_mode": {
    "name": "ipython",
    "version": 3
   },
   "file_extension": ".py",
   "mimetype": "text/x-python",
   "name": "python",
   "nbconvert_exporter": "python",
   "pygments_lexer": "ipython3",
   "version": "3.11.3"
  }
 },
 "nbformat": 4,
 "nbformat_minor": 2
}
