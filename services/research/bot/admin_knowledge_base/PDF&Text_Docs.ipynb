{
 "cells": [
  {
   "cell_type": "markdown",
   "metadata": {},
   "source": [
    "# Dependencies"
   ]
  },
  {
   "cell_type": "code",
   "execution_count": 13,
   "metadata": {},
   "outputs": [],
   "source": [
    "from langchain.document_loaders import PyPDFDirectoryLoader, TextLoader\n",
    "from langchain.text_splitter import RecursiveCharacterTextSplitter \n",
    "from openai import OpenAI\n",
    "from langchain_openai import ChatOpenAI\n",
    "from langchain.chains import LLMChain\n",
    "from pinecone import Pinecone, ServerlessSpec\n",
    "from langchain.chains import RetrievalQA\n",
    "from langchain.prompts import PromptTemplate \n",
    "from dotenv import load_dotenv\n",
    "load_dotenv()\n",
    "import os\n",
    "import time"
   ]
  },
  {
   "cell_type": "code",
   "execution_count": 14,
   "metadata": {},
   "outputs": [],
   "source": [
    "OPENAI_API_KEY = os.getenv(\"OPENAI_API_KEY\")\n",
    "PINECONE_API_KEY = os.getenv(\"PINECONE_API_KEY\")\n",
    "PINECONE_API_ENV = os.getenv(\"PINECONE_API_ENV\")"
   ]
  },
  {
   "cell_type": "markdown",
   "metadata": {},
   "source": [
    "# Loading and chunking the Data\n",
    "Here, we will use the PyPDFDirectoryLoader for the PDF from the langchain wrapper to load the PDF data and chunk it into paragraphs. First step includes loading the current PDF file into the loader and converting it to a list of documents. Each document is a list of pages, which consists the metadata of the source PDF and the page number."
   ]
  },
  {
   "cell_type": "code",
   "execution_count": 10,
   "metadata": {},
   "outputs": [
    {
     "data": {
      "text/plain": [
       "[Document(page_content='W9 \\ue088 React\\n1W 9  -  R e a c t\\nSt ar ting a r e act pr oject loc all y\\nThere are various ways to bootstrap a r eact project loc ally. Vite is the most  \\nwidely used one t oday.\\nV i t e\\nRef - https://vite.dev/guide/\\nVite \\ue081French word for \"quick\", pronounced\\xa0/vit/ , like \"veet\") is a build t ool that \\naims to provide a faster and le aner development e xperience for moder n web \\nprojects. It consist s of two major p arts:\\nA dev server that pr ovides\\xa0 r ich f e atur e enhancement s\\xa0over\\xa0 nativ e ES  \\nmodules , for example e xtremely fast\\xa0 Hot Module R eplacement \\ue081HMR\\ue082 .\\nA build command that bundles y our code with\\xa0 R ollup, pre-configur ed to output  \\nhighly optimiz ed static asset s for production.\\nI n t i a l i z i n g  a  r e a c t  p r o j e c t\\nnpm create vite@latest\\nComponent s\\nIn React, component s are the building blocks of the user int erface. The y allow \\nyou to split the UI int o independent, r eusable pieces that c an be thought of as  \\ncustom, self-contained HTML element s.\\nuseSt at e\\nuseState\\xa0is a Hook that let s you add st ate to functional component s. It returns \\nan array with the cur rent state and a function t o update it.\\nimport React, { useState } from \\'react\\';\\nconst Counter = () => {', metadata={'source': 'data/react.pdf', 'page': 0}),\n",
       " Document(page_content='W9 \\ue088 React\\n2    const [count, setCount ] = useState (0);\\n    return (\\n        <div>\\n            <p>Count: {count}</p>\\n            <button onClick ={() => setCount (count + 1)}>Inc\\nrement</button>\\n        </div>\\n    );\\n};\\nN o t i f i c a t i o n  c o u n t  c o d e\\nimport { useState } from \"react\";\\nfunction  App() {\\n  return (\\n    <div style ={{background : \"#dfe6e9\" , height: \"100vh\" }}>\\n      <ToggleMessage />\\n      <ToggleMessage />\\n      <ToggleMessage />\\n    </div>\\n  )\\n}\\n// the component isnt re-rendering\\n// because we havent used a state variable\\nconst ToggleMessage  = () => {\\n  let [notificationCount , setNotificationCount ] = useState\\n(0);\\n  console.log(\"re-render\" );\\n  function  increment () {', metadata={'source': 'data/react.pdf', 'page': 1}),\n",
       " Document(page_content='W9 \\ue088 React\\n3    setNotificationCount (notificationCount + 1);\\n  }\\n  return (\\n      <div>\\n          <button onClick ={increment }>\\n              Increase count\\n          </button>\\n          {notificationCount }\\n      </div>\\n  );\\n};\\nP o s t  c o m p o n e n t\\nconst style = { width: 200, backgroundColor : \"white\", borde\\nrRadius: 10, borderColor : \"gray\", borderWidth : 1, padding: \\n20 }\\nexport function  PostComponent ({name, subtitle , time, image, \\ndescription }) {\\n  return <div style ={style}>\\n    <div style ={{display: \"flex\"}}>\\n      <img src={image} style={{\\n        width: 30,\\n        height: 30,\\n        borderRadius : 20\\n      }} />\\n      <div style ={{fontSize : 10, marginLeft : 10}}>\\n        <b>\\n          {name}\\n        </b>', metadata={'source': 'data/react.pdf', 'page': 2}),\n",
       " Document(page_content='W9 \\ue088 React\\n4        <div>{subtitle }</div>\\n        {(time !== undefined ) ? <div style ={{display: \\'fle\\nx\\'}}>\\n          <div>{time}</div>\\n          <img src={\"<https://media.istockphoto.com/id/9313\\n36618/vector/clock-vector-icon-isolated.jpg?s=612x612&w=0&k\\n=20&c=I8EBJl8i6olqcrhAtKko74ydFEVbfCQ6s5Pbsx6vfas=>\" } style\\n={{width: 12, height: 12}} />\\n        </div> : null}\\n      </div>\\n    </div>\\n    <div style ={{fontSize : 12}}>\\n     {description }\\n    </div>\\n </div>\\n}\\nSolution\\nimport { useState } from \"react\";\\nimport { PostComponent } from \"./Post\" ;\\nfunction  App() {\\n  const [posts, setPosts ] = useState ([]);\\n  const postComponents = posts.map(post => <PostComponen\\nt\\n    name={post.name}\\n    subtitle ={post.subtitle }\\n    time={post.title}\\n    image={post.image}\\n    description ={post.description }\\n  />)\\n  function  addPost() {', metadata={'source': 'data/react.pdf', 'page': 3}),\n",
       " Document(page_content='W9 \\ue088 React\\n5    setPosts ([...posts, {\\n      name: \"harkirat\" ,\\n      subtitle : \"10000 followers\" ,\\n      time: \"2m ago\" ,\\n      image: \"<https://appx-wsb-gcp-mcdn.akamai.net.in/s\\nubject/2023-01-17-0.17044360120951185.jpg>\" ,\\n      description : \"What to know how to win big? Check o\\nut how these folks won $6000 in bounties.\"\\n    }])\\n  }\\n  return (\\n    <div style ={{background : \"#dfe6e9\" , height: \"100vh\", \\n}}>\\n      <button onClick ={addPost}>Add post </button>\\n      <div style ={{display: \"flex\", justifyContent : \"cen\\nter\" }}>\\n        <div>\\n          {postComponents }\\n        </div>\\n      </div>\\n    </div>\\n  )\\n}\\nexport default App\\nUseEf f ect\\nBefore we underst and\\xa0useEffect\\xa0, letʼs underst and what ar e\\xa0Side effects.\\nS i d e  e f f e c t s\\nSide effects are operations that int eract with the out side world or have effects \\nbeyond the component\\'s r endering. Examples include:', metadata={'source': 'data/react.pdf', 'page': 4}),\n",
       " Document(page_content='W9 \\ue088 React\\n6F et ching dat a\\xa0from an API.\\nModifying t he DOM \\xa0manuall y.\\nSubscr ibing t o e v ent s\\xa0(like WebSocket connections, timers, or br owser \\nevents).\\nSt ar ting a clock\\nThese ar e called side ef fects because the y don\\'t just comput e output b ased on  \\nthe input—the y affect things out side the component it self.\\nP r o b l e m  i n  r u n n i n g  s i d e  e f f e c t s  i n  R e a c t  c o m p o n e n t s\\nIf you try to introduce side ef fects directly in the r endering logic of a  \\ncomponent (in the r eturn statement or bef ore it), React would run that code  \\nevery time the component r enders. This c an lead to:\\nUnnecessar y or duplic at ed ef f ect s\\xa0(like multiple API c alls).\\nInconsist ent beha vior\\xa0(side ef fects might happen bef ore rendering \\nfinishes).\\nP er f or mance issues \\xa0(side ef fects could block r endering or cause \\nexcessive re-rendering).\\nH o w \\xa0useEffect \\xa0 M a n a g e s  S i d e  E f f e c t s :\\nThe\\xa0useEffect\\xa0hook let s you perform side ef fects in functional component s in a \\nsafe, predictable way:\\nuseEffect (() => {\\n  // Code here is the \"effect\" — this is where side effects  \\nhappen\\n  fetchData ();\\n  // Optionally, return a cleanup function that runs when t\\nhe component unmounts.\\n  return () => {\\n    // Cleanup code, e.g., unsubscribing from an event or c', metadata={'source': 'data/react.pdf', 'page': 5}),\n",
       " Document(page_content='W9 \\ue088 React\\n7learing timers.\\n  };\\n}, [/* dependencies */ ]);\\nThe f irst ar gument \\xa0to\\xa0useEffect\\xa0is the ef fect function, wher e you put the  \\ncode that per forms the side ef fect.\\nThe second ar gument \\xa0is the dependencies ar ray, which contr ols when the  \\neffect runs. This ar ray tells React to re-run the ef fect only when cer tain \\nvalues (pr ops or st ate) change. If y ou pass an empt y array\\xa0[], the effect \\nwill only run\\xa0 once\\xa0after the initial r ender.\\nOptional Cle anup\\ue092 If your side ef fect needs cle anup (e.g., unsubscr ibing \\nfrom a WebSocket, clearing intervals),\\xa0useEffect\\xa0allows you to return a \\nfunction that R eact will c all when the component unmount s or before re-\\nrunning the ef fect.\\nT o  r e c a p\\nuseEffect\\xa0is a Hook that let s you perform side ef fects in functional component s. \\nIt can be used f or data fetching, subscr iptions, or manuall y changing the DOM.\\nL i n k e d i n  l i k e  t o p b a r\\nimport { useEffect , useState } from \"react\";\\nfunction  App() {\\n  const [currentTab , setCurrentTab ] = useState (1);\\n  const [tabData, setTabData ] = useState ({});\\n  const [loading, setLoading ] = useState (true);\\n  useEffect (function () {\\n    setLoading (true);\\n    fetch(\"<https://jsonplaceholder.typicode.com/todos/>\"  + \\ncurrentTab )\\n      .then(async res => {', metadata={'source': 'data/react.pdf', 'page': 6}),\n",
       " Document(page_content='W9 \\ue088 React\\n8        const json = await res.json();\\n        setTabData (json);\\n        setLoading (false);\\n      });\\n  }, [])\\n  return <div>\\n    <button onClick ={function () {\\n      setCurrentTab (1)\\n    }} style={{color: currentTab == 1 ? \"red\" : \"black\"}}>T\\nodo #1</button>\\n    <button onClick ={function () {\\n      setCurrentTab (2)\\n    }} style={{color: currentTab == 2 ? \"red\" : \"black\"}}>T\\nodo #2</button>\\n    <button onClick ={function () {\\n      setCurrentTab (3)\\n    }} style={{color: currentTab == 3 ? \"red\" : \"black\"}}>T\\nodo #3</button>\\n    <button onClick ={function () {\\n      setCurrentTab (4)\\n    }} style={{color: currentTab == 4 ? \"red\" : \"black\"}}>T\\nodo #4</button>\\n<br />\\n    {loading ? \"Loading...\"  : tabData .title}\\n  </div>\\n}\\nexport default App\\nC r e a t e  a  C o u n t d o w n\\nimport React, { useState , useEffect } from \\'react\\';', metadata={'source': 'data/react.pdf', 'page': 7}),\n",
       " Document(page_content=\"W9 \\ue088 React\\n9const Timer = () => {\\n    const [seconds, setSeconds ] = useState (0);\\n    useEffect (() => {\\n        const interval = setInterval (() => {\\n            setSeconds (prev => prev + 1);\\n        }, 1000);\\n        return () => clearInterval (interval ); // Cleanup on  \\nunmount\\n    }, []);\\n    return <div>{seconds} seconds elapsed </div>;\\n};\\nF e t c h i n g  d a t a\\nimport React, { useState , useEffect } from 'react';\\nconst UserList  = () => {\\n    const [users, setUsers ] = useState ([]);\\n    const [loading, setLoading ] = useState (true);\\n    useEffect (() => {\\n        const fetchData  = async () => {\\n            try {\\n                const response = await fetch('<https://json\\nplaceholder.typicode.com/users>' );\\n                const data = await response .json();\\n                setUsers (data);\\n            } catch (error) {\\n                console.error('Error fetching data:' , erro\\nr);\\n            } finally {\", metadata={'source': 'data/react.pdf', 'page': 8}),\n",
       " Document(page_content='W9 \\ue088 React\\n10                setLoading (false);\\n            }\\n        };\\n        fetchData ();\\n    }, []); // Empty dependency array means this runs once  \\nwhen the component mounts.\\n    if (loading) {\\n        return <div>Loading...</div>;\\n    }\\n    return (\\n        <ul>\\n            {users.map(user => (\\n                <li key={user.id}>{user.name}</li>\\n            ))}\\n        </ul>\\n    );\\n};\\nexport default UserList ;\\npr ops\\nProps are the wa y to pass data from one component t o another in R eact.\\nimport React from \\'react\\';\\nconst Gr eeting = ({ name }) ⇒ {\\n    return <h1\\ue098Hello, {name }!\\ue097/h1\\ue098;\\n};\\nconst App = () ⇒ {\\n    return \\ue097Greeting name=\" Alice\" />;\\n};', metadata={'source': 'data/react.pdf', 'page': 9}),\n",
       " Document(page_content=\"W9 \\ue088 React\\n11Conditional R ender ing\\nYou can render dif ferent component s or element s based on cer tain conditions.\\nimport React, { useState } from 'react';\\nconst ToggleMessage  = () => {\\n    const [isVisible , setIsVisible ] = useState (false);\\n    return (\\n        <div>\\n            <button onClick ={() => setIsVisible (!isVisibl\\ne)}>\\n                Toggle Message\\n            </button>\\n            {isVisible && <p>This message is conditionally  \\nrendered !</p>}\\n        </div>\\n    );\\n};\\nChildr en\\nC a r d  c o m p o n e n t\\nimport React from 'react';\\nconst Card = ({ children }) => {\\n    return (\\n        <div style ={{\\n            border: '1px solid #ccc' ,\\n            borderRadius : '5px',\\n            padding: '20px',\", metadata={'source': 'data/react.pdf', 'page': 10}),\n",
       " Document(page_content=\"W9 \\ue088 React\\n12            margin: '10px',\\n            boxShadow : '2px 2px 5px rgba(0, 0, 0, 0.1)' ,\\n        }}>\\n            {children }\\n        </div>\\n    );\\n};\\nconst App = () => {\\n    return (\\n        <div>\\n            <Card>\\n                <h2>Card Title </h2>\\n                <p>This is some content inside the card .</p\\n>\\n            </Card>\\n            <Card>\\n                <h2>Another Card </h2>\\n                <p>This card has different content !</p>\\n            </Card>\\n        </div>\\n    );\\n};\\nexport default App;\\nM o d a l s\\nimport React, { useState } from 'react';\\nconst Modal = ({ isOpen, onClose , children }) => {\\n    if (!isOpen) return null;\\n    return (\", metadata={'source': 'data/react.pdf', 'page': 11}),\n",
       " Document(page_content=\"W9 \\ue088 React\\n13        <div style ={{\\n            position : 'fixed',\\n            top: 0,\\n            left: 0,\\n            right: 0,\\n            bottom: 0,\\n            backgroundColor : 'rgba(0, 0, 0, 0.5)' ,\\n            display: 'flex',\\n            justifyContent : 'center' ,\\n            alignItems : 'center' ,\\n        }}>\\n            <div style ={{\\n                background : 'white',\\n                padding: '20px',\\n                borderRadius : '5px',\\n            }}>\\n                <button onClick ={onClose}>Close</button>\\n                {children }\\n            </div>\\n        </div>\\n    );\\n};\\nconst App = () => {\\n    const [isModalOpen , setModalOpen ] = useState (false);\\n    return (\\n        <div>\\n            <button onClick ={() => setModalOpen (true)}>Open \\nModal</button>\\n            <Modal isOpen ={isModalOpen } onClose ={() => setM\\nodalOpen (false)}>\\n                <h2>Modal Title </h2>\\n                <p>This is some content inside the modal .</\\np>\\n            </Modal>\", metadata={'source': 'data/react.pdf', 'page': 12}),\n",
       " Document(page_content='W9 \\ue088 React\\n14        </div>\\n    );\\n};\\nexport default App;\\nC o l l a p s i b l e  S e c t i o n\\nimport React, { useState } from \\'react\\';\\nconst Collapsible  = ({ title, children }) => {\\n    const [isOpen, setIsOpen ] = useState (false);\\n    return (\\n        <div>\\n            <button onClick ={() => setIsOpen (!isOpen)}>\\n                {title} {isOpen ? \\'-\\' : \\'+\\'}\\n            </button>\\n            {isOpen && <div>{children }</div>}\\n        </div>\\n    );\\n};\\nconst App = () => {\\n    return (\\n        <div>\\n            <Collapsible title =\"Section 1\" >\\n                <p>This is the content of section 1.</p>\\n            </Collapsible >\\n            <Collapsible title =\"Section 2\" >\\n                <p>This is the content of section 2.</p>\\n            </Collapsible >\\n        </div>\\n    );\\n};', metadata={'source': 'data/react.pdf', 'page': 13}),\n",
       " Document(page_content=\"W9 \\ue088 React\\n15export default App;\\nList s and K e ys\\nWhen rendering lists, each item should ha ve a unique k ey prop for React to \\ntrack changes ef ficiently.\\nimport React from 'react';\\nconst ItemList  = ({ items }) => {\\n    return (\\n        <ul>\\n            {items.map(item => (\\n                <li key={item.id}>{item.name}</li>\\n            ))}\\n        </ul>\\n    );\\n};\\nconst App = () => {\\n    const items = [\\n        { id: 1, name: 'Item 1'  },\\n        { id: 2, name: 'Item 2'  },\\n        { id: 3, name: 'Item 3'  },\\n    ];\\n    return <ItemList items ={items} />;\\n};\\nInline st y ling\\nInline styling in React allows you to apply CSS st yles directly to element s using \\na JavaScript object\", metadata={'source': 'data/react.pdf', 'page': 14}),\n",
       " Document(page_content=\"W9 \\ue088 React\\n16function  MyComponent () {\\n  return (\\n    <div style ={{ backgroundColor : 'blue', color: 'white' \\n}}>\\n      Hello, World!\\n    </div>\\n  );\\n}\\nClass b ased vs functional component s\\nEarlier, React code was wr itten using\\xa0 Class based\\xa0component s. Slowly \\nfunctional component s were introduced and t oday they are the ones y ouʼll se \\neverywhere.\\nRef -\\xa0https://github.com/pr ocessing/p5 .js-web-editor/issues/2358\\nClass component s are classes that e xtend\\xa0React.Component, while functional  \\ncomponent s are simpler and c an use Hooks.\\nC l a s s  b a s e d  c o m p o n e n t s\\nimport React, { Component } from 'react';\\nclass ClassCounter  extends Component  {\\n    state = { count: 0 };\\n    increment  = () => {\\n        this.setState ({ count: this.state.count + 1 });\\n    };\\n    render() {\\n        return (\\n            <div>\\n                <p>Count: {this.state.count}</p>\\n                <button onClick ={this.increment }>Increment\\n</button>\", metadata={'source': 'data/react.pdf', 'page': 15}),\n",
       " Document(page_content=\"W9 \\ue088 React\\n17            </div>\\n        );\\n    }\\n}\\nF u n c t i o n a l  c o m p o n e n t s\\nimport React, { useState } from 'react';\\nconst FunctionalCounter  = () => {\\n    const [count, setCount ] = useState (0);\\n    function  increment () {\\n    setCount (count => count + 1)\\n    }\\n    return (\\n        <div>\\n            <p>Count: {count}</p>\\n            <button onClick ={increment }>Increment </button>\\n        </div>\\n    );\\n};\\nLif ec y cle e v ent s\\nIn React, lifecycle events (or lifecycle methods) r efer to the specific point s in a \\ncomponent's lif e where you can execute code in r esponse t o changes or  \\nactions. These e vents help you manage t asks such as dat a fetching, \\nsubscriptions, and cle aning up r esources.\\nC l a s s - B a s e d  L i f e c y c l e  M e t h o d s\\nIn class component s, lifecycle methods ar e divided int o three main phases:\", metadata={'source': 'data/react.pdf', 'page': 16}),\n",
       " Document(page_content=\"W9 \\ue088 React\\n18\\ue072\\ue094\\x00 Mounting \\ue092 When the component is being inser ted into the DOM.\\nconstructor()\\ue092 Called when the component is initializ ed.\\ncomponentDidMount()\\ue092 Called immediat ely after the component is mount ed. \\nIdeal for data fetching.\\n\\ue073\\ue094\\x00 Updating \\ue092 When the component is being r e-rendered due t o changes in  \\nprops or st ate.\\ncomponentDidUpdate(prevProps, prevState)\\ue092 Called af ter the component has  \\nupdated. Good f or operations b ased on pr op/state changes.\\n\\ue074\\ue094\\x00 Unmounting \\ue092 When the component is being r emoved from the DOM.\\ncomponentWillUnmount()\\ue092 Ideal for cleanup tasks, like invalidating timers or  \\ncanceling net work requests.\\nC o d e\\nclass MyComponent  extends React.Component  {\\n  constructor (props) {\\n    super(props);\\n    this.state = { count: 0 };\\n  }\\n  componentDidMount () {\\n    console.log('Component mounted' );\\n  }\\n  componentDidUpdate (prevProps , prevState ) {\\n    console.log('Component updated' );\\n  }\\n  componentWillUnmount () {\\n    console.log('Component will unmount' );\\n  }\\n  render() {\", metadata={'source': 'data/react.pdf', 'page': 17}),\n",
       " Document(page_content=\"W9 \\ue088 React\\n19    return (\\n      <div>\\n        <p>Count: {this.state.count}</p>\\n        <button onClick ={() => this.setState ({ count: this.\\nstate.count + 1 })}>\\n          Increment\\n        </button>\\n      </div>\\n    );\\n  }\\n}\\nF u n c t i o n a l  c o m p o n e n t  l i f e c y c l e  e v e n t s\\nimport React, { useState , useEffect } from 'react';\\nfunction  MyComponent () {\\n  const [count, setCount ] = useState (0);\\n  useEffect (() => {\\n    console.log('Component mounted or count updated' );\\n  }, [count]); // Runs on mount and when count changes\\nuseEffect (() => {\\n    console .log('Component mounted' );\\n    return () => {\\n      console.log('Component will unmount' );\\n    };\\n}, [])\\n  return (\\n    <div>\\n      <p>Count: {count}</p>\\n      <button onClick ={() => setCount (count + 1)}>Increment\", metadata={'source': 'data/react.pdf', 'page': 18}),\n",
       " Document(page_content='W9 \\ue088 React\\n20</button>\\n    </div>\\n  );\\n}\\nEr r or boundar y\\nError boundar ies are React component s that catch JavaScript errors in their  \\nchild component tr ee and displa y a fallback UI.\\nError boundar ies only exist in class b ased component s\\nimport React from \\'react\\';\\nclass ErrorBoundary  extends React.Component  {\\n    constructor (props) {\\n        super(props);\\n        this.state = { hasError : false };\\n    }\\n    static getDerivedStateFromError (error) {\\n        return { hasError : true };\\n    }\\n    componentDidCatch (error, info) {\\n        console.error(\"Error caught:\" , error, info);\\n    }\\n    render() {\\n        if (this.state.hasError ) {\\n            return <h1>Something went wrong .</h1>;\\n        }\\n        return this.props.children ;\\n    }\\n}', metadata={'source': 'data/react.pdf', 'page': 19}),\n",
       " Document(page_content='W9 \\ue088 React\\n21const BuggyComponent  = () => {\\n    throw new Error(\"I crashed!\" );\\n};\\nconst App = () => {\\n    return (\\n        <ErrorBoundary >\\n            <BuggyComponent />\\n        </ErrorBoundary >\\n    );\\n};\\nF r agment\\nIn React, a component c an return a single p arent element, but it c an contain \\nmultiple childr en within that single p arent\\nW r o n g  c o d e\\nconst MyComponent  = () => {\\n    return (\\n        <h1>Hello</h1>\\n        <p>World</p> // This line will cause an error\\n    );\\n};\\nR i g h t  c o d e\\nconst MyComponent  = () => {\\n    return (\\n        <>\\n            <h1>Hello</h1>\\n            <p>World</p>\\n        </>', metadata={'source': 'data/react.pdf', 'page': 20}),\n",
       " Document(page_content='W9 \\ue088 React\\n22    );\\n};\\nSingle p age applic ations,  r outing\\nSingle Page Applic ations \\ue081SP As) are web applic ations that lo ad a single HTML  \\npage and d ynamically update that page as the user int eracts with the app. This  \\napproach allows for a smoother user e xperience comp ared to traditional mul ti-\\npage applic ations \\ue081MP As), wher e each interaction of ten requires a full p age \\nreload.\\nLibrary to use for routing -\\xa0 https://reactrouter.com/en/main\\nInstall react-router-dom\\nnpm i react -router-dom\\nUpdate App.jsx with the r espectiv e routes\\nimport ReactDOM from \"react-dom/client\" ;\\nimport { BrowserRouter , Routes, Route } from \"react-router-\\ndom\";\\nimport Layout from \"./pages/Layout\" ;\\nimport Home from \"./pages/Home\" ;\\nimport Blogs from \"./pages/Blogs\" ;\\nimport Contact from \"./pages/Contact\" ;\\nimport NoPage from \"./pages/NoPage\" ;\\nexport default function  App() {\\n  return (\\n    <BrowserRouter >\\n    <Routes>\\n        <Route index element ={<Home />} />\\n        <Route path =\"blogs\" element ={<Blogs />} />\\n        <Route path =\"contact\"  element ={<Contact />} />\\n        <Route path =\"*\" element ={<NoPage />} />', metadata={'source': 'data/react.pdf', 'page': 21}),\n",
       " Document(page_content='W9 \\ue088 React\\n23      </Routes>\\n    </BrowserRouter >\\n  );\\n}\\nconst root = ReactDOM .createRoot (document .getElementById (\\'r\\noot\\'));\\nroot.render(<App />);\\nCode from class\\nimport \\'./App.css\\'\\nimport { BrowserRouter , Routes, Route, Link } from \"react-r\\nouter-dom\" ;\\nfunction  App() {\\n  return <div>\\n    <BrowserRouter >\\n      <Link to=\"/\">Allen</Link>\\n      |\\n      <Link to=\"/neet/online-coaching-class-11\" >Class 11</L\\nink>\\n      |\\n      <Link to=\"/neet/online-coaching-class-12\" >Class 12</L\\nink>\\n      <Routes>\\n        <Route path =\"/neet/online-coaching-class-11\"  elemen\\nt={<Class11Program />} />\\n        <Route path =\"/neet/online-coaching-class-12\"  elemen\\nt={<Class12Program />} />\\n        <Route path =\"/\" element ={<Landing />} />\\n      </Routes>\\n    </BrowserRouter >\\n  </div>', metadata={'source': 'data/react.pdf', 'page': 22}),\n",
       " Document(page_content='W9 \\ue088 React\\n24}\\nfunction  Landing() {\\n  return <div>\\n    Welcome to allen\\n  </div>\\n}\\nfunction  Class11Program () {\\n  return <div>\\n      NEET programs for Class 11th\\n  </div>\\n}\\nfunction  Class12Program () {\\n  return <div>\\n      NEET programs for Class 12th\\n  </div>\\n}\\nexport default App\\nLa y out s\\nLayouts let you\\xa0wrap\\xa0every route inside a cer tain component (think he aders \\nand footers)\\nimport ReactDOM from \"react-dom/client\" ;\\nimport { BrowserRouter , Routes, Route } from \"react-router-\\ndom\";\\nimport Layout from \"./pages/Layout\" ;\\nimport Home from \"./pages/Home\" ;\\nimport Blogs from \"./pages/Blogs\" ;\\nimport Contact from \"./pages/Contact\" ;\\nimport NoPage from \"./pages/NoPage\" ;', metadata={'source': 'data/react.pdf', 'page': 23}),\n",
       " Document(page_content='W9 \\ue088 React\\n25export default function  App() {\\n  return (\\n    <BrowserRouter >\\n      <Routes>\\n        <Route path =\"/\" element ={<Layout />}>\\n          <Route index element ={<Home />} />\\n          <Route path =\"blogs\" element ={<Blogs />} />\\n          <Route path =\"contact\"  element ={<Contact />} />\\n          <Route path =\"*\" element ={<NoPage />} />\\n        </Route>\\n      </Routes>\\n    </BrowserRouter >\\n  );\\n}\\nconst root = ReactDOM .createRoot (document .getElementById (\\'r\\noot\\'));\\nroot.render(<App />);\\nuseR ef\\nW h a t  i s \\xa0useRef ?\\nIn React,\\xa0useRef\\xa0is a hook that pr ovides a wa y to create a\\xa0 r ef er ence\\xa0to a value \\nor a DOM element that persist s across renders but\\xa0 does not tr igger a r e-\\nr ender\\xa0when the v alue changes.\\nK e y  C h a r a c t e r i s t i c s  o f \\xa0useRef :\\n\\ue072\\ue094\\x00 P ersist ent A cr oss R enders\\ue092 The value stored in\\xa0useRef\\xa0persists between \\ncomponent r e-renders. This me ans the v alue of a\\xa0 ref\\xa0does not get r eset \\nwhen the component r e-renders, unlik e regular v ariables.\\n\\ue073\\ue094\\x00 No R e-R enders on Change \\ue092 Changing the v alue of a\\xa0 ref\\xa0(ref.current) \\ndoes\\xa0 not\\xa0cause a component t o re-render. This is dif ferent from state \\n(useState), which tr iggers a r e-render when updat ed.', metadata={'source': 'data/react.pdf', 'page': 24}),\n",
       " Document(page_content='W9 \\ue088 React\\n261 .  F o c u s s i n g  o n  a n  i n p u t  b o x\\nimport React, { useRef } from \\'react\\';\\nfunction  FocusInput () {\\n  // Step 1: Create a ref to store the input element\\n  const inputRef = useRef(null);\\n  // Step 2: Define the function to focus the input\\n  const handleFocus  = () => {\\n    // Access the DOM node and call the focus method\\n    inputRef .current.focus();\\n  };\\n  return (\\n    <div>\\n      {/* Step 3: Attach the ref to the input element */ }\\n      <input ref ={inputRef } type=\"text\" placeholder =\"Click \\nthe button to focus me\"  />\\n      <button onClick ={handleFocus }>Focus the input </button\\n>\\n    </div>\\n  );\\n}\\nexport default FocusInput ;\\n2 .  S c r o l l  t o  b o t t o m\\nimport React, { useEffect , useRef, useState } from \\'react\\';\\nfunction  Chat() {\\n  const [messages , setMessages ] = useState ([\"Hello!\" , \"How \\nare you?\" ]);\\n  const chatBoxRef = useRef(null);', metadata={'source': 'data/react.pdf', 'page': 25}),\n",
       " Document(page_content='W9 \\ue088 React\\n27  // Function to simulate adding new messages\\n  const addMessage  = () => {\\n    setMessages ((prevMessages ) => [...prevMessages , \"New me\\nssage!\"]);\\n  };\\n  // Scroll to the bottom whenever a new message is added\\n  useEffect (() => {\\n    chatBoxRef .current.scrollTop = chatBoxRef .current.scrol\\nlHeight;\\n  }, [messages ]);\\n  return (\\n    <div>\\n      <div\\n        ref={chatBoxRef }\\n        style={{ height: \"200px\", overflowY : \"scroll\" , bord\\ner: \"1px solid black\"  }}\\n      >\\n        {messages .map((msg, index) => (\\n          <div key={index}>{msg}</div>\\n        ))}\\n      </div>\\n      <button onClick ={addMessage }>Add Message </button>\\n    </div>\\n  );\\n}\\nexport default Chat;\\n3 .  C l o c k  w i t h  s t a r t  a n d  s t o p  f u n c t i o n a l i t y\\nNotice the r e-renders in both of the f ollowing cases -', metadata={'source': 'data/react.pdf', 'page': 26}),\n",
       " Document(page_content=\"W9 \\ue088 React\\n28// ugly code\\nimport React, { useState } from 'react';\\nfunction  Stopwatch () {\\n  const [time, setTime ] = useState (0);\\n  const [intervalId , setIntervalId ] = useState (null); // Us\\ne state to store the interval ID\\n  const startTimer  = () => {\\n    if (intervalId !== null) return; // Already running, do  \\nnothing\\n    const newIntervalId = setInterval (() => {\\n      setTime((prevTime ) => prevTime + 1);\\n    }, 1000);\\n    // Store the interval ID in state (triggers re-render)\\n    setIntervalId (newIntervalId );\\n  };\\n  const stopTimer  = () => {\\n    clearInterval (intervalId );\\n    // Clear the interval ID in state (triggers re-render)\\n    setIntervalId (null);\\n  };\\n  return (\\n    <div>\\n      <h1>Timer: {time}</h1>\\n      <button onClick ={startTimer }>Start</button>\\n      <button onClick ={stopTimer }>Stop</button>\\n    </div>\\n  );\\n}\", metadata={'source': 'data/react.pdf', 'page': 27}),\n",
       " Document(page_content=\"W9 \\ue088 React\\n29export default Stopwatch ;\\n// better code\\nimport React, { useState , useRef } from 'react';\\nfunction  Stopwatch () {\\n  const [time, setTime ] = useState (0);\\n  const intervalRef = useRef(null);\\n  const startTimer  = () => {\\n    if (intervalRef .current !== null) return; // Already ru\\nnning, do nothing\\n    intervalRef .current = setInterval (() => {\\n      setTime((prevTime ) => prevTime + 1);\\n    }, 1000);\\n  };\\n  const stopTimer  = () => {\\n    clearInterval (intervalRef .current);\\n    intervalRef .current = null;\\n  };\\n  return (\\n    <div>\\n      <h1>Timer: {time}</h1>\\n      <button onClick ={startTimer }>Start</button>\\n      <button onClick ={stopTimer }>Stop</button>\\n    </div>\\n  );\\n}\\nCust om Hook\", metadata={'source': 'data/react.pdf', 'page': 28}),\n",
       " Document(page_content=\"W9 \\ue088 React\\n30Custom hooks in R eact are a powerful feature that allo ws you to encapsulate \\nand reuse stateful logic acr oss different component s. They are essentiall y \\nJavaScript functions that c an use R eact hooks int ernally. By creating cust om \\nhooks, y ou can abstract awa y comple x logic, making y our component s cleaner \\nand mor e manage able.\\nW h y  U s e  C u s t o m  H o o k s ?\\n\\ue072\\ue094\\x00 R eusabilit y\\ue092 If you find y ourself using the same logic in mul tiple \\ncomponent s, a cust om hook c an help y ou avoid code duplic ation.\\n\\ue073\\ue094\\x00 Sep ar ation of Concer ns\\ue092 They allow you to separate business logic fr om UI \\nlogic, making y our component s more focused and e asier to underst and.\\nC o m m o n  c u s t o m  h o o k s\\nuseFetch (https://swr .vercel.app/ )\\nimport { useState , useEffect } from 'react';\\nexport const useFetch  = (url: string) => {\\n  const [data, setData ] = useState (null);\\n  const [loading, setLoading ] = useState (true);\\n  const [error, setError ] = useState <Error | null>(nul\\nl);\\n  useEffect (() => {\\n    const fetchData  = async () => {\\n      setLoading (true);\\n      try {\\n        const response = await fetch(url);\\n        const result = await response .json();\\n        setData(result);\\n      } catch (err) {\\n        setError (err as Error);\\n      } finally {\\n        setLoading (false);\", metadata={'source': 'data/react.pdf', 'page': 29}),\n",
       " Document(page_content=\"W9 \\ue088 React\\n31      }\\n    };\\n    fetchData ();\\n  }, [url]);\\n  return { data, loading , error };\\n};\\nusePrevValue\\nuseFetch with r e-fetching\\nimport { useState , useEffect } from 'react';\\nexport const useFetch  = (url: string, interval : number | \\nnull = null) => {\\n  const [data, setData ] = useState <any>(null);\\n  const [loading, setLoading ] = useState <boolean>(true);\\n  const [error, setError ] = useState <Error | null>(nul\\nl);\\n  const fetchData  = async () => {\\n    setLoading (true);\\n    try {\\n      const response = await fetch(url);\\n      const result = await response .json();\\n      setData(result);\\n    } catch (err) {\\n      setError (err as Error);\\n    } finally {\\n      setLoading (false);\\n    }\\n  };\", metadata={'source': 'data/react.pdf', 'page': 30}),\n",
       " Document(page_content=\"W9 \\ue088 React\\n32  useEffect (() => {\\n    fetchData (); // Initial fetch\\n    if (interval !== null) {\\n      const fetchInterval = setInterval (() => {\\n        fetchData ();\\n      }, interval );\\n      return () => clearInterval (fetchInterval ); // Clea\\nr interval on cleanup\\n    }\\n  }, [url, interval ]);\\n  return { data, loading , error };\\n};\\nusePrev\\nimport { useRef, useState , useEffect } from 'react'\\nimport './App.css'\\nexport const usePrev = (value) => {\\n  const ref = useRef();\\n  // Update the ref with the current value after each re\\nnder\\n  useEffect (() => {\\n    ref.current = value;\\n  }, [value]);\\n  // Return the previous value (current value of ref bef\\nore it is updated)\\n  return ref.current;\", metadata={'source': 'data/react.pdf', 'page': 31}),\n",
       " Document(page_content=\"W9 \\ue088 React\\n33};\\nfunction  App() {\\n  const [count, setCount ] = useState (0);\\n  const prevCount = usePrev(count); // Track the previou\\ns count value\\n  return (\\n    <div style ={{ textAlign : 'center' , marginTop : '50px' \\n}}>\\n      <h1>Counter with usePrev Hook </h1>\\n      <p>Current Count : {count}</p>\\n      <p>Previous Count : {prevCount }</p>\\n      <button onClick ={() => setCount (count + 1)}>Increm\\nent</button>\\n      <button onClick ={() => setCount (count - 1)} style=\\n{{ marginLeft : '10px' }}>Decrement </button>\\n    </div>\\n  );\\n}\\nexport default App\\nuseIsOnline\\nimport { useEffect , useState } from 'react';\\nconst useIsOnline  = () => {\\n  const [isOnline , setIsOnline ] = useState (navigator .onL\\nine);\\n  useEffect (() => {\\n    const updateOnlineStatus  = () => setIsOnline (navigat\\nor.onLine);\", metadata={'source': 'data/react.pdf', 'page': 32}),\n",
       " Document(page_content=\"W9 \\ue088 React\\n34    window.addEventListener ('online' , updateOnlineStatu\\ns);\\n    window.addEventListener ('offline' , updateOnlineStatu\\ns);\\n    // Clean up the event listeners on component unmount\\n    return () => {\\n      window.removeEventListener ('online' , updateOnlineS\\ntatus);\\n      window.removeEventListener ('offline' , updateOnline\\nStatus);\\n    };\\n  }, []);\\n  return isOnline ;\\n};\\nexport default useIsOnline ;\\nuseDebounce  \\n(https://gist.github.com/hkirat/439a0be47 7e3c31b08c 1f7e0f4582674\\ue082\\nimport { useState , useEffect } from 'react';\\nconst useDebounce  = (value, delay) => {\\n    const [debouncedValue , setDebouncedValue ] = useState\\n(value);\\n    useEffect (() => {\\n        const handler = setTimeout (() => {\\n            setDebouncedValue (value);\\n        }, delay);\", metadata={'source': 'data/react.pdf', 'page': 33}),\n",
       " Document(page_content=\"W9 \\ue088 React\\n35        return () => {\\n            clearTimeout (handler);\\n        };\\n    }, [value, delay]);\\n    return debouncedValue ;\\n};\\nexport default useDebounce ;\\nIf we want t o debounce function (fr om ak)\\nconst debounce  = (func, delay) => {\\n  let timeout ;\\n  return (...args) => {\\n    clearTimeout (timeout);  // Clears the previous ti\\nmer\\n    timeout = setTimeout (() => func(...args), delay);  \\n// Starts a new timer\\n  };\\n};\\nA s s i g n m e n t\\nRead about swr and r eact-query\\nIs\\xa0usePrev\\xa0hook that w e have made indeed cor rect? Try out this  \\nexample\\xa0https://giacomocer quone.com/blog/lif e-death-usepr evious-hook/\\nimport { useRef, useState , useEffect } from 'react'\\nimport './App.css'\\nexport const usePrev = (value) => {\\n  const ref = useRef();\", metadata={'source': 'data/react.pdf', 'page': 34}),\n",
       " Document(page_content=\"W9 \\ue088 React\\n36  // Update the ref with the current value after each re\\nnder\\n  useEffect (() => {\\n    ref.current = value;\\n  }, [value]);\\n  // Return the previous value (current value of ref bef\\nore it is updated)\\n  return ref.current;\\n};\\nfunction  App() {\\n  const [count, setCount ] = useState (0);\\n  const prevCount = usePrev(count); // Track the previou\\ns count value\\n  const [x, setX] = useState (0);\\n  useEffect (() => {\\n    setInterval (() => {\\n      setX(x => x + 1);\\n    }, 1000)\\n  }, []);\\n  return (\\n    <div style ={{ textAlign : 'center' , marginTop : '50px' \\n}}>\\n      <h1>Counter with usePrev Hook </h1>\\n      <p>Current Count : {count}</p>\\n      <p>Previous Count : {prevCount }</p>\\n      {x}\\n      <button onClick ={() => setCount (count + 1)}>Increm\\nent</button>\\n      <button onClick ={() => setCount (count - 1)} style=\\n{{ marginLeft : '10px' }}>Decrement </button>\\n    </div>\\n  );\", metadata={'source': 'data/react.pdf', 'page': 35}),\n",
       " Document(page_content=\"W9 \\ue088 React\\n37}\\nexport default App\\nBetter\\xa0usePrev\\nExplore\\xa0https://usehooks.com/\\nR olling up t he st at e,  unoptimal r e-r enders\\nAs your applic ation grows, you might find that mul tiple component s need \\naccess t o the same st ate. Instead of duplic ating state in each component, y ou \\ncan lift the state up to the LCA, allowing the common ancest or to manage it.\\nE x a m p l e\\nimport React, { useEffect , useState } from 'react';\\nfunction  Parent() {\\n  const [count, setCount ] = useState (0);\\n  return (\\n    <>\\n      <Incrase count ={count} setCount ={setCount } />\\n      <Decrease count ={count} setCount ={setCount } />\\n      <Value count ={count} setCount ={setCount } />\\n    </>\\n  );\\n}\\nfunction  Decrease ({ count, setCount }) {\\n  return <button onClick ={() => setCount (count - 1)}>Decrea\\nse</button>;\\n}\", metadata={'source': 'data/react.pdf', 'page': 36}),\n",
       " Document(page_content=\"W9 \\ue088 React\\n38function  Incrase({ count, setCount }) {\\n  return <button onClick ={() => setCount (count + 1)}>Increa\\nse</button>;\\n}\\nfunction  Value({ count }) {\\n  return <p>Count: {count}</p>;\\n}\\n// App Component\\nconst App = () => {\\n  return <div>\\n    <Parent />\\n  </div>\\n};\\nexport default App;\\nL i g h t b u l b  e x a m p l e\\nimport { useState } from 'react'\\nimport './App.css'\\nfunction  App() {\\n  return <div>\\n    <LightBulb />\\n  </div>\\n}\\nfunction  LightBulb () {\\n  const [bulbOn, setBulbOn ] = useState (true)\\n  return <div>\\n    <BulbState bulbOn ={bulbOn} />\", metadata={'source': 'data/react.pdf', 'page': 37}),\n",
       " Document(page_content='W9 \\ue088 React\\n39    <ToggleBulbState bulbOn ={bulbOn} setBulbOn ={setBulbOn } \\n/>\\n  </div>\\n}\\nfunction  BulbState ({bulbOn}) {\\n  return <div>\\n    {bulbOn ? \"Bulb on\"  : \"Bulb off\" }\\n  </div>\\n}\\nfunction  ToggleBulbState ({bulbOn, setBulbOn }) {\\n  function  toggle() {\\n    // setBulbOn(currentState => !currentState)\\n    setBulbOn (!bulbOn)\\n  }\\n  return <div>\\n    <button onClick ={toggle}>Toggle the bulb </button>\\n  </div>\\n}\\nexport default App\\nPr op Dr illing\\nPr op dr illing\\xa0occurs when y ou need t o pass data from a higher -level \\ncomponent do wn to a lower-level component that is se veral layers deep in the  \\ncomponent tr ee. This of ten leads to the following issues:\\nComple xit y:\\xa0You may have to pass props through man y intermediate \\ncomponent s that don ʼt use the pr ops themsel ves, just t o get them t o the \\ncomponent that needs them.', metadata={'source': 'data/react.pdf', 'page': 38}),\n",
       " Document(page_content=\"W9 \\ue088 React\\n40Maint enance: \\xa0It can make the code har der to maintain, as changes in the  \\nprops structur e require updates in mul tiple component s.\\nimport React, { useState } from 'react';\\n// LightBulb Component\\nconst LightBulb  = ({ isOn }) => {\\n  return <div>The light is {isOn ? 'ON' : 'OFF'}</div>;\\n};\\n// LightSwitch Component\\nconst LightSwitch  = ({ toggleLight }) => {\\n  return <button onClick ={toggleLight }>Toggle Light </button>;\\n};\\n// App Component\\nconst App = () => {\\n  const [isLightOn , setIsLightOn ] = useState (false);\\n  const toggleLight  = () => {\\n    setIsLightOn ((prev) => !prev);\\n  };\\n  return (\\n    <div>\\n      <LightBulb isOn ={isLightOn } />\\n      <LightSwitch toggleLight ={toggleLight } />\\n    </div>\\n  );\\n};\\nexport default App;\\nCont e x t API\", metadata={'source': 'data/react.pdf', 'page': 39}),\n",
       " Document(page_content=\"W9 \\ue088 React\\n41The Cont ext API is a po werful feature in React that enables y ou to manage  \\nstate across your applic ation mor e effectively, especiall y when de aling with  \\ndeeply nested component s.\\nThe Cont ext API provides a wa y to share values (st ate, functions, et c.) \\nbetween component s without ha ving to pass props down manuall y at every \\nlevel.\\nJ a r g o n\\nCont e x t\\ue092 This is cr eated using R eact.createContext(). It serves as a cont ainer \\nfor the dat a you want t o share.\\nPr o vider\\ue092 This component wraps p art of your applic ation and pr ovides the  \\ncontext value to all its descendant s. Any component that is a child of this  \\nProvider can access the cont ext.\\nConsumer \\ue092 This component subscr ibes to context changes. I t allows you to \\naccess the cont ext value (using useCont ext  hook)\\nO l d  c o d e\\nimport React, { useEffect , useState } from 'react';\\nfunction  Parent() {\\n  const [count, setCount ] = useState (0);\\n  return (\\n    <>\\n      <Incrase count ={count} setCount ={setCount } />\\n      <Decrease count ={count} setCount ={setCount } />\\n      <Value count ={count} setCount ={setCount } />\\n    </>\\n  );\\n}\\nfunction  Decrease ({ count, setCount }) {\\n  return <button onClick ={() => setCount (count - 1)}>Decrease\\n}\", metadata={'source': 'data/react.pdf', 'page': 40}),\n",
       " Document(page_content='W9 \\ue088 React\\n42function  Incrase({ count, setCount }) {\\n  return <button onClick ={() => setCount (count + 1)}>Increase\\n}\\nfunction  Value({ count }) {\\n  return <p>Count: {count}</p>;\\n}\\n// App Component\\nconst App = () => {\\n  return <div>\\n    <Parent />\\n  </div>\\n};\\nexport default App;\\nN e w  c o d e\\nCreate a new\\xa0CountContext\\nconst CountContext = createContext ();\\nCreate a CountCont extProvider\\nfunction  CountContextProvider ({ children }) {\\n  const [count, setCount ] = useState (0);\\n  return <CountContext .Provider value ={{count, setCount }}>\\n    {children }\\n  </CountContext .Provider >\\n}', metadata={'source': 'data/react.pdf', 'page': 41}),\n",
       " Document(page_content='W9 \\ue088 React\\n43Wrap your app inside the\\xa0 CountContextProvider\\nfunction  Parent() {\\n  return (\\n    <CountContextProvider >\\n      <Incrase />\\n      <Decrease />\\n      <Value />\\n    </CountContextProvider >\\n  );\\n}\\nConsume the\\xa0 context\\xa0in individual component s\\nfunction  Decrease () {\\n  const {count, setCount } = useContext (CountContext );\\n  return <button onClick ={() => setCount (count - 1)}>Decrea\\nse</button>;\\n}\\nfunction  Incrase() {\\n  const {count, setCount } = useContext (CountContext );\\n  return <button onClick ={() => setCount (count + 1)}>Increa\\nse</button>;\\n}\\nfunction  Value() {\\n  const {count} = useContext (CountContext );\\n  return <p>Count: {count}</p>;\\n}\\nExport the\\xa0App\\xa0component which r enders\\xa0 Parent', metadata={'source': 'data/react.pdf', 'page': 42}),\n",
       " Document(page_content=\"W9 \\ue088 React\\n44const App = () => {\\n  return <div>\\n    <Parent />\\n  </div>\\n};\\nexport default App;\\nT esting t he cont e x t api\\nLets test our applic ation, and obser ve the renders.\\nimport React, { createContext , useContext , useState } from \\n'react';\\nconst CountContext = createContext ();\\nfunction  CountContextProvider ({ children }) {\\n  const [count, setCount ] = useState (0);\\n  return <CountContext .Provider value ={{count, setCount }}>\\n    {children }\\n  </CountContext .Provider >\\n}\\nfunction  Parent() {\\n  return (\\n    <CountContextProvider >\\n      <Incrase />\\n      <Decrease />\\n      <Value />\\n    </CountContextProvider >\\n  );\\n}\", metadata={'source': 'data/react.pdf', 'page': 43}),\n",
       " Document(page_content=\"W9 \\ue088 React\\n45function  Decrease () {\\n  const {count, setCount } = useContext (CountContext );\\n  return <button onClick ={() => setCount (count - 1)}>Decrea\\nse</button>;\\n}\\nfunction  Incrase() {\\n  const {count, setCount } = useContext (CountContext );\\n  return <button onClick ={() => setCount (count + 1)}>Increa\\nse</button>;\\n}\\nfunction  Value() {\\n  const {count} = useContext (CountContext );\\n  return <p>Count: {count}</p>;\\n}\\n// App Component\\nconst App = () => {\\n  return <div>\\n    <Parent />\\n  </div>\\n};\\nexport default App;\\nO p t i m i s i n g  t h e  a p p\\nimport React, { createContext , useContext , useState } from \\n'react';\\nconst CountContext = createContext ();\\nfunction  CountContextProvider ({ children }) {\", metadata={'source': 'data/react.pdf', 'page': 44}),\n",
       " Document(page_content='W9 \\ue088 React\\n46  const [count, setCount ] = useState (0);\\n  return <CountContext .Provider value ={{count, setCount }}>\\n    {children }\\n  </CountContext .Provider >\\n}\\nfunction  Parent() {\\n  return (\\n    <CountContextProvider >\\n      <Incrase />\\n      <Decrease />\\n      <Value />\\n    </CountContextProvider >\\n  );\\n}\\nfunction  Decrease () {\\n  const {count, setCount } = useContext (CountContext );\\n  return <button onClick ={() => setCount (count - 1)}>Decrea\\nse</button>;\\n}\\nfunction  Incrase() {\\n  const {count, setCount } = useContext (CountContext );\\n  return <button onClick ={() => setCount (count + 1)}>Increa\\nse</button>;\\n}\\nfunction  Value() {\\n  const {count} = useContext (CountContext );\\n  return <p>Count: {count}</p>;\\n}\\n// App Component\\nconst App = () => {', metadata={'source': 'data/react.pdf', 'page': 45}),\n",
       " Document(page_content=\"W9 \\ue088 React\\n47  return <div>\\n    <Parent />\\n  </div>\\n};\\nexport default App;\\nW h a t  c o n t e x t  d o e s ,  a n d  w h a t  i t  d o e s n ʼ t\\nThe Cont ext API primarily addresses the issue of pr op drilling by allowing you \\nto share state across your component tr ee without needing t o pass props \\nthrough every level.\\nIt doesnʼt optimise r enders in y our applic ation, which becomes impor tant \\nif/when y our applic ation becomes bigger\\nIntr oducing r ecoil\\nTo minimise the number of r e-renders, and ensur e that onl y component s that \\nare\\xa0subscribed\\xa0to a value\\xa0render, state management was intr oduced.\\nThere are many libraries that let y ou do st ate management -\\n\\ue072\\ue094\\x00mobx\\n\\ue073\\ue094\\x00recoil\\n\\ue074\\ue094\\x00redux\\nHere is a simple e xample with\\xa0 recoil\\nnpm inst all recoil\\nimport React, { createContext , useContext , useState } from \\n'react';\\nimport { RecoilRoot , atom, useRecoilValue , useSetRecoilStat\\ne } from 'recoil' ;\\nconst count = atom({\\n  key: 'countState' , // unique ID (with respect to other at\\noms/selectors)\", metadata={'source': 'data/react.pdf', 'page': 46}),\n",
       " Document(page_content='W9 \\ue088 React\\n48  default: 0, // default value (aka initial value)\\n});\\nfunction  Parent() {\\n  return (\\n    <RecoilRoot >\\n      <Incrase />\\n      <Decrease />\\n      <Value />\\n    </RecoilRoot >\\n  );\\n}\\nfunction  Decrease () {\\n  const setCount = useSetRecoilState (count);\\n  return <button onClick ={() => setCount (count => count - \\n1)}>Decrease </button>;\\n}\\nfunction  Incrase() {\\n  const setCount = useSetRecoilState (count);\\n  return <button onClick ={() => setCount (count => count + \\n1)}>Increase </button>;\\n}\\nfunction  Value() {\\n  const countValue = useRecoilValue (count);\\n  return <p>Count: {countValue }</p>;\\n}\\n// App Component\\nconst App = () => {\\n  return <div>\\n    <Parent />\\n  </div>\\n};', metadata={'source': 'data/react.pdf', 'page': 47}),\n",
       " Document(page_content='W9 \\ue088 React\\n49export default App;', metadata={'source': 'data/react.pdf', 'page': 48})]"
      ]
     },
     "execution_count": 10,
     "metadata": {},
     "output_type": "execute_result"
    }
   ],
   "source": [
    "loader = PyPDFDirectoryLoader(\"data\")\n",
    "data = loader.load()\n",
    "data"
   ]
  },
  {
   "cell_type": "markdown",
   "metadata": {},
   "source": [
    "Now, since the context window of our LLM will be limited, the ideal way to handle this is to chunk the data into paragraphs. This is done by the chunker, which takes the list of documents and returns a list of paragraphs within the chunk limit we set (500 words in this case). The chunker also takes care of the page breaks and ensures that the paragraphs are not split across pages. Also, we will be introducing an overlap, which will be the number of words that will be repeated in the end of one chunk and the beginning of the next chunk. This is done to ensure that the context is not lost between the chunks."
   ]
  },
  {
   "cell_type": "markdown",
   "metadata": {},
   "source": [
    "Now, we should be able to do the same for text data as well."
   ]
  },
  {
   "cell_type": "code",
   "execution_count": 55,
   "metadata": {},
   "outputs": [
    {
     "data": {
      "text/plain": [
       "[Document(page_content='from pyspark.sql import SparkSession\\nfrom pyspark.sql.functions import last\\n\\nspark = SparkSession.builder.appName(\"SCD Type II Merge W5 GA\").getOrCreate()\\n\\nmaster_file_path = \"gs://week-5-ga/source_data-w5.csv\"\\nupdate_file_path = \"gs://week-5-ga/update_data-w5.csv\"\\noutput_file_path = \"gs://week-5-ga/master_data-w5.csv\"\\n\\nmaster_df = spark.read.csv(master_file_path, header=True, inferSchema=True)\\nupdate_df = spark.read.csv(update_file_path, header=True, inferSchema=True)\\n\\ncombined_df = master_df.union(update_df)\\n\\nfinal_df = combined_df.groupBy(\"Customer ID\").agg(\\n    last(\"Name\").alias(\"Name\"),\\n    last(\"Address\").alias(\"Address\"),\\n    last(\"Membership Start Date\").alias(\"Membership Start Date\"),\\n    last(\"Membership End Date\").alias(\"Membership End Date\")\\n)\\n\\nfinal_df.show()\\nfinal_df.write.csv(output_file_path, header=True)', metadata={'source': 'data/W5_Code.txt'})]"
      ]
     },
     "execution_count": 55,
     "metadata": {},
     "output_type": "execute_result"
    }
   ],
   "source": [
    "text_loader = TextLoader(\"data/W5_Code.txt\")\n",
    "text_data = text_loader.load()\n",
    "text_data"
   ]
  },
  {
   "cell_type": "markdown",
   "metadata": {},
   "source": [
    "Now, we will have to add a page (could be 0) in the metadata on this, as it expects it to be there in the final chain."
   ]
  },
  {
   "cell_type": "code",
   "execution_count": 56,
   "metadata": {},
   "outputs": [
    {
     "data": {
      "text/plain": [
       "[Document(page_content='from pyspark.sql import SparkSession\\nfrom pyspark.sql.functions import last\\n\\nspark = SparkSession.builder.appName(\"SCD Type II Merge W5 GA\").getOrCreate()\\n\\nmaster_file_path = \"gs://week-5-ga/source_data-w5.csv\"\\nupdate_file_path = \"gs://week-5-ga/update_data-w5.csv\"\\noutput_file_path = \"gs://week-5-ga/master_data-w5.csv\"\\n\\nmaster_df = spark.read.csv(master_file_path, header=True, inferSchema=True)\\nupdate_df = spark.read.csv(update_file_path, header=True, inferSchema=True)\\n\\ncombined_df = master_df.union(update_df)\\n\\nfinal_df = combined_df.groupBy(\"Customer ID\").agg(\\n    last(\"Name\").alias(\"Name\"),\\n    last(\"Address\").alias(\"Address\"),\\n    last(\"Membership Start Date\").alias(\"Membership Start Date\"),\\n    last(\"Membership End Date\").alias(\"Membership End Date\")\\n)\\n\\nfinal_df.show()\\nfinal_df.write.csv(output_file_path, header=True)', metadata={'source': 'data/W5_Code.txt', 'page': 0})]"
      ]
     },
     "execution_count": 56,
     "metadata": {},
     "output_type": "execute_result"
    }
   ],
   "source": [
    "text_data[0].metadata[\"page\"] = 0\n",
    "text_data"
   ]
  },
  {
   "cell_type": "markdown",
   "metadata": {},
   "source": [
    "After this, this chunk will follow the exact same steps as the PDF data."
   ]
  },
  {
   "cell_type": "code",
   "execution_count": 11,
   "metadata": {},
   "outputs": [
    {
     "data": {
      "text/plain": [
       "[Document(page_content='W9 \\ue088 React\\n1W 9  -  R e a c t\\nSt ar ting a r e act pr oject loc all y\\nThere are various ways to bootstrap a r eact project loc ally. Vite is the most  \\nwidely used one t oday.\\nV i t e\\nRef - https://vite.dev/guide/\\nVite \\ue081French word for \"quick\", pronounced\\xa0/vit/ , like \"veet\") is a build t ool that \\naims to provide a faster and le aner development e xperience for moder n web \\nprojects. It consist s of two major p arts:\\nA dev server that pr ovides\\xa0 r ich f e atur e enhancement s\\xa0over\\xa0 nativ e ES', metadata={'source': 'data/react.pdf', 'page': 0}),\n",
       " Document(page_content='modules , for example e xtremely fast\\xa0 Hot Module R eplacement \\ue081HMR\\ue082 .\\nA build command that bundles y our code with\\xa0 R ollup, pre-configur ed to output  \\nhighly optimiz ed static asset s for production.\\nI n t i a l i z i n g  a  r e a c t  p r o j e c t\\nnpm create vite@latest\\nComponent s\\nIn React, component s are the building blocks of the user int erface. The y allow \\nyou to split the UI int o independent, r eusable pieces that c an be thought of as  \\ncustom, self-contained HTML element s.', metadata={'source': 'data/react.pdf', 'page': 0}),\n",
       " Document(page_content=\"useSt at e\\nuseState\\xa0is a Hook that let s you add st ate to functional component s. It returns \\nan array with the cur rent state and a function t o update it.\\nimport React, { useState } from 'react';\\nconst Counter = () => {\", metadata={'source': 'data/react.pdf', 'page': 0})]"
      ]
     },
     "execution_count": 11,
     "metadata": {},
     "output_type": "execute_result"
    }
   ],
   "source": [
    "text_split = RecursiveCharacterTextSplitter(chunk_size = 500, chunk_overlap = 20)\n",
    "text_chunks = text_split.split_documents(data)\n",
    "\n",
    "\n",
    "text_chunks[:3]"
   ]
  },
  {
   "cell_type": "markdown",
   "metadata": {},
   "source": [
    "As we can see, each of our chunks is in the limit of 500 characters and the overlap is 20 characters, let us view the total number of chunks. "
   ]
  },
  {
   "cell_type": "code",
   "execution_count": 12,
   "metadata": {},
   "outputs": [
    {
     "name": "stdout",
     "output_type": "stream",
     "text": [
      "Length of chunks : 108\n"
     ]
    }
   ],
   "source": [
    "print(f\"Length of chunks : {len(text_chunks)}\")"
   ]
  },
  {
   "cell_type": "markdown",
   "metadata": {},
   "source": [
    "# Pinecone Initialization\n",
    "Now, we will be using the pinecone vectorDB to store the embeddings of the chunks. We will be using the `pinecone.init()` function to initialize the pinecone environment. We will be using the `pinecone.use_index()` function to use the index created for this project and setup the instance for the same."
   ]
  },
  {
   "cell_type": "code",
   "execution_count": 15,
   "metadata": {},
   "outputs": [],
   "source": [
    "pc = Pinecone(api_key = PINECONE_API_KEY, environment = PINECONE_API_ENV)"
   ]
  },
  {
   "cell_type": "markdown",
   "metadata": {},
   "source": [
    "Now, let us view the indexs avaliable in the pinecone environment."
   ]
  },
  {
   "cell_type": "code",
   "execution_count": 16,
   "metadata": {},
   "outputs": [
    {
     "data": {
      "text/plain": [
       "{'indexes': [{'deletion_protection': 'disabled',\n",
       "              'dimension': 1536,\n",
       "              'host': 'documents-hjunc2h.svc.aped-4627-b74a.pinecone.io',\n",
       "              'metric': 'cosine',\n",
       "              'name': 'documents',\n",
       "              'spec': {'serverless': {'cloud': 'aws', 'region': 'us-east-1'}},\n",
       "              'status': {'ready': True, 'state': 'Ready'},\n",
       "              'tags': {'embedding_model': 'text-embedding-3-small'},\n",
       "              'vector_type': 'dense'}]}"
      ]
     },
     "execution_count": 16,
     "metadata": {},
     "output_type": "execute_result"
    }
   ],
   "source": [
    "pc.list_indexes()"
   ]
  },
  {
   "cell_type": "markdown",
   "metadata": {},
   "source": [
    "So this is the one we will be using for storing the documnets of this project."
   ]
  },
  {
   "cell_type": "markdown",
   "metadata": {},
   "source": [
    "# Embedding the Chunks using OpenAI text-embedding-3-small\n",
    "Here, we will be using the OpenAI text-embedding-3-small model to embed the chunks, for which we will need an openAI instance initialised."
   ]
  },
  {
   "cell_type": "code",
   "execution_count": 17,
   "metadata": {},
   "outputs": [],
   "source": [
    "openAI_client = OpenAI(api_key=OPENAI_API_KEY)"
   ]
  },
  {
   "cell_type": "markdown",
   "metadata": {},
   "source": [
    "Let us go ahead and set the embeddings model and a function to get the embeddings of any given text via the text-embedding-3-small model."
   ]
  },
  {
   "cell_type": "code",
   "execution_count": 18,
   "metadata": {},
   "outputs": [],
   "source": [
    "embedding_model = openAI_client.embeddings\n",
    "\n",
    "def get_embedding(text) :\n",
    "    response = embedding_model.create(\n",
    "        input=text,\n",
    "        model=\"text-embedding-3-small\"\n",
    "    )\n",
    "    return response.data[0].embedding"
   ]
  },
  {
   "cell_type": "markdown",
   "metadata": {},
   "source": [
    "Now, each chunk will ideally belong to a documnent stored in S3 bucket in AWS. So, for now we will assume that the **KEY** of that document is in the format as given below which we will be using in the metadata. To simiplify the process, each entry in the vectorDB should have : \n",
    "\n",
    "* **ID** : The unique ID of the document, which will be a combination of the document key and the chunk number.\n",
    "* **VALUES** : The embedding of the chunk, as generated by the OpenAI text-embedding-3-small model.\n",
    "* **METADATA** : The metadata of the document, which will include the document key and the chunk number.\n",
    "    *  **USER_ID** : The ID of the user in our system.\n",
    "    *  **DOCUMENT_TYPE** : The type of the document from either \"pdf\" or \"text\".\n",
    "    *  **KEY** : The key of the document in the S3 bucket, which defines the location of the document.\n",
    "    *  **CHUNK** : The text of the chunk.\n",
    "    *  **PAGE_NUMBER** : The page number of the chunk in the document.\n",
    "    *  **CHUNK_INDEX** : The number of the chunk in the document.\n",
    "\n",
    "Since most of the information will be given by the backend server, for now we will use dummy values for the metadata."
   ]
  },
  {
   "cell_type": "code",
   "execution_count": 19,
   "metadata": {},
   "outputs": [],
   "source": [
    "KEY = \"61f100abx/pdf/W9-react\"\n",
    "USER_ID = \"61f100abx\"\n",
    "DOCUMENT_TYPE = \"pdf\""
   ]
  },
  {
   "cell_type": "markdown",
   "metadata": {},
   "source": [
    "Let us now create the function to create vectors in our desired format as defined above."
   ]
  },
  {
   "cell_type": "code",
   "execution_count": 20,
   "metadata": {},
   "outputs": [],
   "source": [
    "def create_vectors(text_chunks,KEY,USER_ID,DOCUMENT_TYPE):\n",
    "    v = []\n",
    "    chunk_num = 0\n",
    "    \n",
    "    for chunk in text_chunks: \n",
    "        page_num = chunk.metadata[\"page\"]\n",
    "        \n",
    "        entry = {}\n",
    "        entry[\"id\"] = f\"{KEY}_PAGE_{page_num}_CHUNK_{chunk_num}\"\n",
    "        entry[\"values\"] = get_embedding(chunk.page_content)\n",
    "        entry[\"metadata\"] = {\n",
    "            \"userID\" : USER_ID,\n",
    "            \"type\" : DOCUMENT_TYPE,\n",
    "            \"key\" : KEY,\n",
    "            \"chunk\" : chunk.page_content,\n",
    "            \"page_number\" : chunk.metadata[\"page\"],\n",
    "            \"chunk_number\" : chunk_num\n",
    "        }\n",
    "        \n",
    "        chunk_num += 1\n",
    "        v.append(entry)\n",
    "        \n",
    "    return v"
   ]
  },
  {
   "cell_type": "code",
   "execution_count": 21,
   "metadata": {},
   "outputs": [],
   "source": [
    "vectors = create_vectors(text_chunks,KEY,USER_ID,DOCUMENT_TYPE)"
   ]
  },
  {
   "cell_type": "markdown",
   "metadata": {},
   "source": [
    "With this, we have our vectors stored in the ideal format to be pushed into the vector DB. Let us now push the vectors into the vectorDB of pinecone."
   ]
  },
  {
   "cell_type": "markdown",
   "metadata": {},
   "source": [
    "# Pushing the Vectors into the Pinecone Index"
   ]
  },
  {
   "cell_type": "code",
   "execution_count": 22,
   "metadata": {},
   "outputs": [
    {
     "data": {
      "text/plain": [
       "{'upserted_count': 108}"
      ]
     },
     "execution_count": 22,
     "metadata": {},
     "output_type": "execute_result"
    }
   ],
   "source": [
    "index_name = \"documents\"\n",
    "while not pc.describe_index(index_name).status['ready']:\n",
    "    time.sleep(1)\n",
    "\n",
    "index = pc.Index(index_name)\n",
    "\n",
    "index.upsert(\n",
    "    vectors=vectors\n",
    ")"
   ]
  },
  {
   "cell_type": "markdown",
   "metadata": {},
   "source": [
    "# Querying the Vectors\n",
    "We shall now query the vectors to check if the vectors have been stored correctly in the pinecone index, and how does this exactly work. We will fetch the relevant vectors from the pinecone index. For that, we will create a function which takes a text query, converts into to an embedding and queries the pinecone index to get the most similar texts from the vectors stored in the index."
   ]
  },
  {
   "cell_type": "code",
   "execution_count": 25,
   "metadata": {},
   "outputs": [],
   "source": [
    "def get_relevant_chunks(query,userID,KEY):\n",
    "    query_vector = get_embedding(query)\n",
    "    \n",
    "    results = index.query(\n",
    "        vector = query_vector,\n",
    "        top_k = 10,\n",
    "        include_values = False,\n",
    "        include_metadata = True,\n",
    "        filter={\n",
    "            \"userID\" : userID,\n",
    "            \"key\" : KEY\n",
    "        }\n",
    "    )\n",
    "    \n",
    "    relevant_texts = []\n",
    "    for record in results['matches']:\n",
    "        text = {}\n",
    "        text['score'] = record['score']\n",
    "        text['text'] = record['metadata']['chunk']\n",
    "        text[\"reference\"] = int(record[\"metadata\"][\"page_number\"]) + 1\n",
    "        relevant_texts.append(text)\n",
    "    \n",
    "    return relevant_texts"
   ]
  },
  {
   "cell_type": "markdown",
   "metadata": {},
   "source": [
    "Finally, we can create a QA system which will take a query and return the most relevant chunks from the PDF document."
   ]
  },
  {
   "cell_type": "code",
   "execution_count": 26,
   "metadata": {},
   "outputs": [
    {
     "name": "stdout",
     "output_type": "stream",
     "text": [
      "Rank 0.597881198 \n",
      " Reference 6 \n",
      " Answer: \n",
      " The useEffect hook let s you perform side ef fects in functional component s in a \n",
      "safe, predictable way:\n",
      "useEffect (() => {\n",
      "  // Code here is the \"effect\" — this is where side effects  \n",
      "happen\n",
      "  fetchData ();\n",
      "  // Optionally, return a cleanup function that runs when t\n",
      "he component unmounts.\n",
      "  return () => {\n",
      "    // Cleanup code, e.g., unsubscribing from an event or c\n",
      "------------------------\n",
      "Rank 0.555085778 \n",
      " Reference 7 \n",
      " Answer: \n",
      " Optional Cle anup If your side ef fect needs cle anup (e.g., unsubscr ibing \n",
      "from a WebSocket, clearing intervals), useEffect allows you to return a \n",
      "function that R eact will c all when the component unmount s or before re-\n",
      "running the ef fect.\n",
      "T o  r e c a p\n",
      "useEffect is a Hook that let s you perform side ef fects in functional component s. \n",
      "It can be used f or data fetching, subscr iptions, or manuall y changing the DOM.\n",
      "L i n k e d i n  l i k e  t o p b a r\n",
      "------------------------\n",
      "Rank 0.488263339 \n",
      " Reference 7 \n",
      " Answer: \n",
      " W9  React\n",
      "7learing timers.\n",
      "  };\n",
      "}, [/* dependencies */ ]);\n",
      "The f irst ar gument  to useEffect is the ef fect function, wher e you put the  \n",
      "code that per forms the side ef fect.\n",
      "The second ar gument  is the dependencies ar ray, which contr ols when the  \n",
      "effect runs. This ar ray tells React to re-run the ef fect only when cer tain \n",
      "values (pr ops or st ate) change. If y ou pass an empt y array [], the effect \n",
      "will only run  once after the initial r ender.\n",
      "------------------------\n",
      "Rank 0.459469587 \n",
      " Reference 5 \n",
      " Answer: \n",
      " <div style ={{display: \"flex\", justifyContent : \"cen\n",
      "ter\" }}>\n",
      "        <div>\n",
      "          {postComponents }\n",
      "        </div>\n",
      "      </div>\n",
      "    </div>\n",
      "  )\n",
      "}\n",
      "export default App\n",
      "UseEf f ect\n",
      "Before we underst and useEffect , letʼs underst and what ar e Side effects.\n",
      "S i d e  e f f e c t s\n",
      "Side effects are operations that int eract with the out side world or have effects \n",
      "beyond the component's r endering. Examples include:\n",
      "------------------------\n",
      "Rank 0.450217575 \n",
      " Reference 6 \n",
      " Answer: \n",
      " component (in the r eturn statement or bef ore it), React would run that code  \n",
      "every time the component r enders. This c an lead to:\n",
      "Unnecessar y or duplic at ed ef f ect s (like multiple API c alls).\n",
      "Inconsist ent beha vior (side ef fects might happen bef ore rendering \n",
      "finishes).\n",
      "P er f or mance issues  (side ef fects could block r endering or cause \n",
      "excessive re-rendering).\n",
      "H o w  useEffect   M a n a g e s  S i d e  E f f e c t s :\n",
      "------------------------\n",
      "Rank 0.3906295 \n",
      " Reference 48 \n",
      " Answer: \n",
      " 1)}>Increase </button>;\n",
      "}\n",
      "function  Value() {\n",
      "  const countValue = useRecoilValue (count);\n",
      "  return <p>Count: {countValue }</p>;\n",
      "}\n",
      "// App Component\n",
      "const App = () => {\n",
      "  return <div>\n",
      "    <Parent />\n",
      "  </div>\n",
      "};\n",
      "------------------------\n",
      "Rank 0.370173365 \n",
      " Reference 6 \n",
      " Answer: \n",
      " W9  React\n",
      "6F et ching dat a from an API.\n",
      "Modifying t he DOM  manuall y.\n",
      "Subscr ibing t o e v ent s (like WebSocket connections, timers, or br owser \n",
      "events).\n",
      "St ar ting a clock\n",
      "These ar e called side ef fects because the y don't just comput e output b ased on  \n",
      "the input—the y affect things out side the component it self.\n",
      "P r o b l e m  i n  r u n n i n g  s i d e  e f f e c t s  i n  R e a c t  c o m p o n e n t s\n",
      "If you try to introduce side ef fects directly in the r endering logic of a\n",
      "------------------------\n",
      "Rank 0.368439764 \n",
      " Reference 19 \n",
      " Answer: \n",
      " }, [count]); // Runs on mount and when count changes\n",
      "useEffect (() => {\n",
      "    console .log('Component mounted' );\n",
      "    return () => {\n",
      "      console.log('Component will unmount' );\n",
      "    };\n",
      "}, [])\n",
      "  return (\n",
      "    <div>\n",
      "      <p>Count: {count}</p>\n",
      "      <button onClick ={() => setCount (count + 1)}>Increment\n",
      "------------------------\n",
      "Rank 0.360493451 \n",
      " Reference 34 \n",
      " Answer: \n",
      " import { useState , useEffect } from 'react';\n",
      "const useDebounce  = (value, delay) => {\n",
      "    const [debouncedValue , setDebouncedValue ] = useState\n",
      "(value);\n",
      "    useEffect (() => {\n",
      "        const handler = setTimeout (() => {\n",
      "            setDebouncedValue (value);\n",
      "        }, delay);\n",
      "------------------------\n",
      "Rank 0.348624319 \n",
      " Reference 45 \n",
      " Answer: \n",
      " W9  React\n",
      "45function  Decrease () {\n",
      "  const {count, setCount } = useContext (CountContext );\n",
      "  return <button onClick ={() => setCount (count - 1)}>Decrea\n",
      "se</button>;\n",
      "}\n",
      "function  Incrase() {\n",
      "  const {count, setCount } = useContext (CountContext );\n",
      "  return <button onClick ={() => setCount (count + 1)}>Increa\n",
      "se</button>;\n",
      "}\n",
      "function  Value() {\n",
      "  const {count} = useContext (CountContext );\n",
      "  return <p>Count: {count}</p>;\n",
      "}\n",
      "// App Component\n",
      "const App = () => {\n",
      "  return <div>\n",
      "    <Parent />\n",
      "------------------------\n",
      "------------------------------------------------------------------------------------------------------------------------\n",
      "Exiting\n"
     ]
    },
    {
     "ename": "SystemExit",
     "evalue": "",
     "output_type": "error",
     "traceback": [
      "An exception has occurred, use %tb to see the full traceback.\n",
      "\u001b[0;31mSystemExit\u001b[0m\n"
     ]
    }
   ],
   "source": [
    "import sys \n",
    "while True:\n",
    "    user_input = input(f\"Input Prompt: \")\n",
    "    if user_input=='exit':\n",
    "        print( 'Exiting')\n",
    "        sys.exit()\n",
    "    if user_input == '':\n",
    "        continue\n",
    "    \n",
    "    docs = get_relevant_chunks(user_input,USER_ID,KEY)\n",
    "        \n",
    "    for doc in docs:\n",
    "        print(f\"Rank {doc['score']} \\n Reference {doc['reference']} \\n Answer: \\n {doc['text']}\")\n",
    "        print(\"------------------------\")\n",
    "\n",
    "    print(\"------------------------------------------------------------------------------------------------------------------------\")\n",
    "        "
   ]
  },
  {
   "cell_type": "markdown",
   "metadata": {},
   "source": [
    "With this, our pipeline is complete and we can now move on to the next steps which is sending these relvant documents to the LLM to answer our query."
   ]
  },
  {
   "cell_type": "markdown",
   "metadata": {},
   "source": [
    "# Prompt Template for the LLM\n",
    "Here, we will need to define the prompt for the LLM to answer the query. The LLM will be given the query and the relevant documents, and it will be expected to return the answer to the query. "
   ]
  },
  {
   "cell_type": "code",
   "execution_count": 27,
   "metadata": {},
   "outputs": [],
   "source": [
    "query_prompt_template = \"\"\"\n",
    "    You are a specialised AI document analyser working at an edtech startup, and you will be assisting the users to answer their queries. You will be given \n",
    "    the top relevant documents and you have to use those to answer the query asked by the user, which will be given to you below. \n",
    "    In the relevant documents,you will be given the cosine similarity score, the reference (which is the page number where this \n",
    "    text was in the document) and the text itself. You can in you answer integrate the reference to build authenticity of your answer, \n",
    "    by precisely writing it like (reference page : page_num)\n",
    "    \n",
    "    \\n\\n User Query : {query}\n",
    "    \\n\\n Documents : {documents}\n",
    "    \n",
    "    MAKE SURE YOU DO NOT ANSWER FROM ANYTHING APART FROM THE DOCUMENTS GIVEN TO YOU. \n",
    "\"\"\""
   ]
  },
  {
   "cell_type": "code",
   "execution_count": 28,
   "metadata": {},
   "outputs": [],
   "source": [
    "query_prompt = PromptTemplate(\n",
    "    input_variables=[\"query\",\"documents\"],\n",
    "    template=query_prompt_template\n",
    ")"
   ]
  },
  {
   "cell_type": "markdown",
   "metadata": {},
   "source": [
    "# Initializing the LLM Client and Chain for RAG Model"
   ]
  },
  {
   "cell_type": "code",
   "execution_count": 29,
   "metadata": {},
   "outputs": [],
   "source": [
    "chat = ChatOpenAI(\n",
    "    temperature = 0,  \n",
    "    model = \"gpt-4o\",\n",
    "    openai_api_key = OPENAI_API_KEY\n",
    ")"
   ]
  },
  {
   "cell_type": "code",
   "execution_count": 30,
   "metadata": {},
   "outputs": [],
   "source": [
    "query_chain = LLMChain(\n",
    "    llm=chat,\n",
    "    prompt=query_prompt\n",
    ")"
   ]
  },
  {
   "cell_type": "markdown",
   "metadata": {},
   "source": [
    "# Q&A System using the chain"
   ]
  },
  {
   "cell_type": "code",
   "execution_count": 32,
   "metadata": {},
   "outputs": [
    {
     "name": "stdout",
     "output_type": "stream",
     "text": [
      "Response from LLM:\n",
      "The `useState` hook is a fundamental part of React that allows you to add state to functional components. It returns an array with two elements: the current state value and a function to update that state. Here's a basic example to illustrate how `useState` works:\n",
      "\n",
      "1. **Counter Example**:\n",
      "   ```javascript\n",
      "   import React, { useState } from 'react';\n",
      "\n",
      "   const Counter = () => {\n",
      "     const [count, setCount] = useState(0);\n",
      "\n",
      "     return (\n",
      "       <div>\n",
      "         <p>You clicked {count} times</p>\n",
      "         <button onClick={() => setCount(count + 1)}>\n",
      "           Click me\n",
      "         </button>\n",
      "       </div>\n",
      "     );\n",
      "   };\n",
      "   ```\n",
      "   In this example, `useState(0)` initializes the state variable `count` to 0. The `setCount` function is used to update the state whenever the button is clicked, incrementing the count by 1 (reference page: 1).\n",
      "\n",
      "2. **Posts Example**:\n",
      "   ```javascript\n",
      "   import { useState } from \"react\";\n",
      "   import { PostComponent } from \"./Post\";\n",
      "\n",
      "   function App() {\n",
      "     const [posts, setPosts] = useState([]);\n",
      "\n",
      "     const postComponents = posts.map(post => (\n",
      "       <PostComponent\n",
      "         name={post.name}\n",
      "         subtitle={post.subtitle}\n",
      "         time={post.title}\n",
      "         image={post.image}\n",
      "         description={post.description}\n",
      "       />\n",
      "     ));\n",
      "\n",
      "     function addPost() {\n",
      "       // Logic to add a new post\n",
      "     }\n",
      "\n",
      "     return (\n",
      "       <div>\n",
      "         {postComponents}\n",
      "         <button onClick={addPost}>Add Post</button>\n",
      "       </div>\n",
      "     );\n",
      "   }\n",
      "   ```\n",
      "   Here, `useState([])` initializes the `posts` state as an empty array. The `setPosts` function can be used to update this array, for example, by adding new posts (reference page: 4).\n",
      "\n",
      "These examples demonstrate how `useState` can be used to manage state in functional components, allowing for dynamic updates and interactions within a React application.\n"
     ]
    }
   ],
   "source": [
    "user_query = \"could you explain useState with some examples?\"\n",
    "docs = get_relevant_chunks(user_query,USER_ID,KEY)\n",
    "\n",
    "# Run the chain\n",
    "response = query_chain.invoke({\n",
    "    \"query\": user_query,\n",
    "    \"documents\": docs\n",
    "})\n",
    "\n",
    "# Print the response\n",
    "print(\"Response from LLM:\")\n",
    "print(response['text'])"
   ]
  },
  {
   "cell_type": "markdown",
   "metadata": {},
   "source": [
    "Here, we have successfully built the RAG model and the Q&A system using the chain. With this, we get the functionality to query the relevant documents and get the answer to the query."
   ]
  },
  {
   "cell_type": "markdown",
   "metadata": {},
   "source": [
    "# Deleting via Pinecone (Listing indexes with prefix and then deleting the index)"
   ]
  },
  {
   "cell_type": "code",
   "execution_count": null,
   "metadata": {},
   "outputs": [],
   "source": [
    "index_name = \"documents\"\n",
    "\n",
    "\n",
    "index = pc.Index(index_name)\n",
    "list1 = []\n",
    "for ids in index.list(prefix=KEY):\n",
    "  list1.append(ids)"
   ]
  },
  {
   "cell_type": "code",
   "execution_count": 16,
   "metadata": {},
   "outputs": [
    {
     "data": {
      "text/plain": [
       "{}"
      ]
     },
     "execution_count": 16,
     "metadata": {},
     "output_type": "execute_result"
    }
   ],
   "source": [
    "KEY = \"674313bc5cbbf2d8da2a4649/pdf/\"\n",
    "res = index.delete([ids for ids in index.list(prefix=KEY)])\n",
    "res"
   ]
  }
 ],
 "metadata": {
  "kernelspec": {
   "display_name": "Python 3",
   "language": "python",
   "name": "python3"
  },
  "language_info": {
   "codemirror_mode": {
    "name": "ipython",
    "version": 3
   },
   "file_extension": ".py",
   "mimetype": "text/x-python",
   "name": "python",
   "nbconvert_exporter": "python",
   "pygments_lexer": "ipython3",
   "version": "3.11.3"
  }
 },
 "nbformat": 4,
 "nbformat_minor": 2
}
